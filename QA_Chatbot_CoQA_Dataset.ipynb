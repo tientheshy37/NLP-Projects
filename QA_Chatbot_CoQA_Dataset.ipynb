{
  "nbformat": 4,
  "nbformat_minor": 0,
  "metadata": {
    "colab": {
      "name": "QA_Chatbot_CoQA_Dataset.ipynb",
      "provenance": [],
      "collapsed_sections": []
    },
    "kernelspec": {
      "name": "python3",
      "display_name": "Python 3"
    },
    "language_info": {
      "name": "python"
    },
    "accelerator": "GPU",
    "widgets": {
      "application/vnd.jupyter.widget-state+json": {
        "7b6c365e9c114445901a3e9556efac38": {
          "model_module": "@jupyter-widgets/controls",
          "model_name": "HBoxModel",
          "model_module_version": "1.5.0",
          "state": {
            "_view_name": "HBoxView",
            "_dom_classes": [],
            "_model_name": "HBoxModel",
            "_view_module": "@jupyter-widgets/controls",
            "_model_module_version": "1.5.0",
            "_view_count": null,
            "_view_module_version": "1.5.0",
            "box_style": "",
            "layout": "IPY_MODEL_22e79ba5c8a743a596cd5fc3cb12f960",
            "_model_module": "@jupyter-widgets/controls",
            "children": [
              "IPY_MODEL_4a0eb430713a433e9f93bd70580fdbaa",
              "IPY_MODEL_9c6daa38a8b14439954db7329587c8b3",
              "IPY_MODEL_0d63aebf065549729256f8fef1427464"
            ]
          }
        },
        "22e79ba5c8a743a596cd5fc3cb12f960": {
          "model_module": "@jupyter-widgets/base",
          "model_name": "LayoutModel",
          "model_module_version": "1.2.0",
          "state": {
            "_view_name": "LayoutView",
            "grid_template_rows": null,
            "right": null,
            "justify_content": null,
            "_view_module": "@jupyter-widgets/base",
            "overflow": null,
            "_model_module_version": "1.2.0",
            "_view_count": null,
            "flex_flow": null,
            "width": null,
            "min_width": null,
            "border": null,
            "align_items": null,
            "bottom": null,
            "_model_module": "@jupyter-widgets/base",
            "top": null,
            "grid_column": null,
            "overflow_y": null,
            "overflow_x": null,
            "grid_auto_flow": null,
            "grid_area": null,
            "grid_template_columns": null,
            "flex": null,
            "_model_name": "LayoutModel",
            "justify_items": null,
            "grid_row": null,
            "max_height": null,
            "align_content": null,
            "visibility": null,
            "align_self": null,
            "height": null,
            "min_height": null,
            "padding": null,
            "grid_auto_rows": null,
            "grid_gap": null,
            "max_width": null,
            "order": null,
            "_view_module_version": "1.2.0",
            "grid_template_areas": null,
            "object_position": null,
            "object_fit": null,
            "grid_auto_columns": null,
            "margin": null,
            "display": null,
            "left": null
          }
        },
        "4a0eb430713a433e9f93bd70580fdbaa": {
          "model_module": "@jupyter-widgets/controls",
          "model_name": "HTMLModel",
          "model_module_version": "1.5.0",
          "state": {
            "_view_name": "HTMLView",
            "style": "IPY_MODEL_7f325071f44042f4997e2604db6031e1",
            "_dom_classes": [],
            "description": "",
            "_model_name": "HTMLModel",
            "placeholder": "​",
            "_view_module": "@jupyter-widgets/controls",
            "_model_module_version": "1.5.0",
            "value": "Downloading: 100%",
            "_view_count": null,
            "_view_module_version": "1.5.0",
            "description_tooltip": null,
            "_model_module": "@jupyter-widgets/controls",
            "layout": "IPY_MODEL_a622fa7f3aa34229ac1bf2877fdcf99f"
          }
        },
        "9c6daa38a8b14439954db7329587c8b3": {
          "model_module": "@jupyter-widgets/controls",
          "model_name": "FloatProgressModel",
          "model_module_version": "1.5.0",
          "state": {
            "_view_name": "ProgressView",
            "style": "IPY_MODEL_cb804ca1e1144b3a8946303081a198bb",
            "_dom_classes": [],
            "description": "",
            "_model_name": "FloatProgressModel",
            "bar_style": "success",
            "max": 443,
            "_view_module": "@jupyter-widgets/controls",
            "_model_module_version": "1.5.0",
            "value": 443,
            "_view_count": null,
            "_view_module_version": "1.5.0",
            "orientation": "horizontal",
            "min": 0,
            "description_tooltip": null,
            "_model_module": "@jupyter-widgets/controls",
            "layout": "IPY_MODEL_0f04c6a10ca2417fb33d77f049c0dcc3"
          }
        },
        "0d63aebf065549729256f8fef1427464": {
          "model_module": "@jupyter-widgets/controls",
          "model_name": "HTMLModel",
          "model_module_version": "1.5.0",
          "state": {
            "_view_name": "HTMLView",
            "style": "IPY_MODEL_d3e3aef6526a48e9aeff6d770af86ec0",
            "_dom_classes": [],
            "description": "",
            "_model_name": "HTMLModel",
            "placeholder": "​",
            "_view_module": "@jupyter-widgets/controls",
            "_model_module_version": "1.5.0",
            "value": " 443/443 [00:00&lt;00:00, 3.66kB/s]",
            "_view_count": null,
            "_view_module_version": "1.5.0",
            "description_tooltip": null,
            "_model_module": "@jupyter-widgets/controls",
            "layout": "IPY_MODEL_c3f1133675094ccb97e5f73e116be4a4"
          }
        },
        "7f325071f44042f4997e2604db6031e1": {
          "model_module": "@jupyter-widgets/controls",
          "model_name": "DescriptionStyleModel",
          "model_module_version": "1.5.0",
          "state": {
            "_view_name": "StyleView",
            "_model_name": "DescriptionStyleModel",
            "description_width": "",
            "_view_module": "@jupyter-widgets/base",
            "_model_module_version": "1.5.0",
            "_view_count": null,
            "_view_module_version": "1.2.0",
            "_model_module": "@jupyter-widgets/controls"
          }
        },
        "a622fa7f3aa34229ac1bf2877fdcf99f": {
          "model_module": "@jupyter-widgets/base",
          "model_name": "LayoutModel",
          "model_module_version": "1.2.0",
          "state": {
            "_view_name": "LayoutView",
            "grid_template_rows": null,
            "right": null,
            "justify_content": null,
            "_view_module": "@jupyter-widgets/base",
            "overflow": null,
            "_model_module_version": "1.2.0",
            "_view_count": null,
            "flex_flow": null,
            "width": null,
            "min_width": null,
            "border": null,
            "align_items": null,
            "bottom": null,
            "_model_module": "@jupyter-widgets/base",
            "top": null,
            "grid_column": null,
            "overflow_y": null,
            "overflow_x": null,
            "grid_auto_flow": null,
            "grid_area": null,
            "grid_template_columns": null,
            "flex": null,
            "_model_name": "LayoutModel",
            "justify_items": null,
            "grid_row": null,
            "max_height": null,
            "align_content": null,
            "visibility": null,
            "align_self": null,
            "height": null,
            "min_height": null,
            "padding": null,
            "grid_auto_rows": null,
            "grid_gap": null,
            "max_width": null,
            "order": null,
            "_view_module_version": "1.2.0",
            "grid_template_areas": null,
            "object_position": null,
            "object_fit": null,
            "grid_auto_columns": null,
            "margin": null,
            "display": null,
            "left": null
          }
        },
        "cb804ca1e1144b3a8946303081a198bb": {
          "model_module": "@jupyter-widgets/controls",
          "model_name": "ProgressStyleModel",
          "model_module_version": "1.5.0",
          "state": {
            "_view_name": "StyleView",
            "_model_name": "ProgressStyleModel",
            "description_width": "",
            "_view_module": "@jupyter-widgets/base",
            "_model_module_version": "1.5.0",
            "_view_count": null,
            "_view_module_version": "1.2.0",
            "bar_color": null,
            "_model_module": "@jupyter-widgets/controls"
          }
        },
        "0f04c6a10ca2417fb33d77f049c0dcc3": {
          "model_module": "@jupyter-widgets/base",
          "model_name": "LayoutModel",
          "model_module_version": "1.2.0",
          "state": {
            "_view_name": "LayoutView",
            "grid_template_rows": null,
            "right": null,
            "justify_content": null,
            "_view_module": "@jupyter-widgets/base",
            "overflow": null,
            "_model_module_version": "1.2.0",
            "_view_count": null,
            "flex_flow": null,
            "width": null,
            "min_width": null,
            "border": null,
            "align_items": null,
            "bottom": null,
            "_model_module": "@jupyter-widgets/base",
            "top": null,
            "grid_column": null,
            "overflow_y": null,
            "overflow_x": null,
            "grid_auto_flow": null,
            "grid_area": null,
            "grid_template_columns": null,
            "flex": null,
            "_model_name": "LayoutModel",
            "justify_items": null,
            "grid_row": null,
            "max_height": null,
            "align_content": null,
            "visibility": null,
            "align_self": null,
            "height": null,
            "min_height": null,
            "padding": null,
            "grid_auto_rows": null,
            "grid_gap": null,
            "max_width": null,
            "order": null,
            "_view_module_version": "1.2.0",
            "grid_template_areas": null,
            "object_position": null,
            "object_fit": null,
            "grid_auto_columns": null,
            "margin": null,
            "display": null,
            "left": null
          }
        },
        "d3e3aef6526a48e9aeff6d770af86ec0": {
          "model_module": "@jupyter-widgets/controls",
          "model_name": "DescriptionStyleModel",
          "model_module_version": "1.5.0",
          "state": {
            "_view_name": "StyleView",
            "_model_name": "DescriptionStyleModel",
            "description_width": "",
            "_view_module": "@jupyter-widgets/base",
            "_model_module_version": "1.5.0",
            "_view_count": null,
            "_view_module_version": "1.2.0",
            "_model_module": "@jupyter-widgets/controls"
          }
        },
        "c3f1133675094ccb97e5f73e116be4a4": {
          "model_module": "@jupyter-widgets/base",
          "model_name": "LayoutModel",
          "model_module_version": "1.2.0",
          "state": {
            "_view_name": "LayoutView",
            "grid_template_rows": null,
            "right": null,
            "justify_content": null,
            "_view_module": "@jupyter-widgets/base",
            "overflow": null,
            "_model_module_version": "1.2.0",
            "_view_count": null,
            "flex_flow": null,
            "width": null,
            "min_width": null,
            "border": null,
            "align_items": null,
            "bottom": null,
            "_model_module": "@jupyter-widgets/base",
            "top": null,
            "grid_column": null,
            "overflow_y": null,
            "overflow_x": null,
            "grid_auto_flow": null,
            "grid_area": null,
            "grid_template_columns": null,
            "flex": null,
            "_model_name": "LayoutModel",
            "justify_items": null,
            "grid_row": null,
            "max_height": null,
            "align_content": null,
            "visibility": null,
            "align_self": null,
            "height": null,
            "min_height": null,
            "padding": null,
            "grid_auto_rows": null,
            "grid_gap": null,
            "max_width": null,
            "order": null,
            "_view_module_version": "1.2.0",
            "grid_template_areas": null,
            "object_position": null,
            "object_fit": null,
            "grid_auto_columns": null,
            "margin": null,
            "display": null,
            "left": null
          }
        },
        "98e6218a48b649beacc8652a3ae0d626": {
          "model_module": "@jupyter-widgets/controls",
          "model_name": "HBoxModel",
          "model_module_version": "1.5.0",
          "state": {
            "_view_name": "HBoxView",
            "_dom_classes": [],
            "_model_name": "HBoxModel",
            "_view_module": "@jupyter-widgets/controls",
            "_model_module_version": "1.5.0",
            "_view_count": null,
            "_view_module_version": "1.5.0",
            "box_style": "",
            "layout": "IPY_MODEL_24d047add30440579f18c030a3b5c3f1",
            "_model_module": "@jupyter-widgets/controls",
            "children": [
              "IPY_MODEL_ec083836f57a451d9854bc594844d7cd",
              "IPY_MODEL_f7d62467fee2486ca6a7bd05befdf2b8",
              "IPY_MODEL_bcfc04c396bd42cb83cab016f0347ae3"
            ]
          }
        },
        "24d047add30440579f18c030a3b5c3f1": {
          "model_module": "@jupyter-widgets/base",
          "model_name": "LayoutModel",
          "model_module_version": "1.2.0",
          "state": {
            "_view_name": "LayoutView",
            "grid_template_rows": null,
            "right": null,
            "justify_content": null,
            "_view_module": "@jupyter-widgets/base",
            "overflow": null,
            "_model_module_version": "1.2.0",
            "_view_count": null,
            "flex_flow": null,
            "width": null,
            "min_width": null,
            "border": null,
            "align_items": null,
            "bottom": null,
            "_model_module": "@jupyter-widgets/base",
            "top": null,
            "grid_column": null,
            "overflow_y": null,
            "overflow_x": null,
            "grid_auto_flow": null,
            "grid_area": null,
            "grid_template_columns": null,
            "flex": null,
            "_model_name": "LayoutModel",
            "justify_items": null,
            "grid_row": null,
            "max_height": null,
            "align_content": null,
            "visibility": null,
            "align_self": null,
            "height": null,
            "min_height": null,
            "padding": null,
            "grid_auto_rows": null,
            "grid_gap": null,
            "max_width": null,
            "order": null,
            "_view_module_version": "1.2.0",
            "grid_template_areas": null,
            "object_position": null,
            "object_fit": null,
            "grid_auto_columns": null,
            "margin": null,
            "display": null,
            "left": null
          }
        },
        "ec083836f57a451d9854bc594844d7cd": {
          "model_module": "@jupyter-widgets/controls",
          "model_name": "HTMLModel",
          "model_module_version": "1.5.0",
          "state": {
            "_view_name": "HTMLView",
            "style": "IPY_MODEL_7bde77c45664444190ef319c39b532e5",
            "_dom_classes": [],
            "description": "",
            "_model_name": "HTMLModel",
            "placeholder": "​",
            "_view_module": "@jupyter-widgets/controls",
            "_model_module_version": "1.5.0",
            "value": "Downloading: 100%",
            "_view_count": null,
            "_view_module_version": "1.5.0",
            "description_tooltip": null,
            "_model_module": "@jupyter-widgets/controls",
            "layout": "IPY_MODEL_1daf6f9aaa404bdc8ef064c8d968078b"
          }
        },
        "f7d62467fee2486ca6a7bd05befdf2b8": {
          "model_module": "@jupyter-widgets/controls",
          "model_name": "FloatProgressModel",
          "model_module_version": "1.5.0",
          "state": {
            "_view_name": "ProgressView",
            "style": "IPY_MODEL_edea11a08bfd46acbe4ba61153bb0c94",
            "_dom_classes": [],
            "description": "",
            "_model_name": "FloatProgressModel",
            "bar_style": "success",
            "max": 1340675298,
            "_view_module": "@jupyter-widgets/controls",
            "_model_module_version": "1.5.0",
            "value": 1340675298,
            "_view_count": null,
            "_view_module_version": "1.5.0",
            "orientation": "horizontal",
            "min": 0,
            "description_tooltip": null,
            "_model_module": "@jupyter-widgets/controls",
            "layout": "IPY_MODEL_067889f78a2c4e32bd2fbd0afd719f93"
          }
        },
        "bcfc04c396bd42cb83cab016f0347ae3": {
          "model_module": "@jupyter-widgets/controls",
          "model_name": "HTMLModel",
          "model_module_version": "1.5.0",
          "state": {
            "_view_name": "HTMLView",
            "style": "IPY_MODEL_25703eddd8684f97bd2c4cd44ad91906",
            "_dom_classes": [],
            "description": "",
            "_model_name": "HTMLModel",
            "placeholder": "​",
            "_view_module": "@jupyter-widgets/controls",
            "_model_module_version": "1.5.0",
            "value": " 1.25G/1.25G [00:38&lt;00:00, 33.4MB/s]",
            "_view_count": null,
            "_view_module_version": "1.5.0",
            "description_tooltip": null,
            "_model_module": "@jupyter-widgets/controls",
            "layout": "IPY_MODEL_5333b1b76f8a45cfa9ba6340eb2010ba"
          }
        },
        "7bde77c45664444190ef319c39b532e5": {
          "model_module": "@jupyter-widgets/controls",
          "model_name": "DescriptionStyleModel",
          "model_module_version": "1.5.0",
          "state": {
            "_view_name": "StyleView",
            "_model_name": "DescriptionStyleModel",
            "description_width": "",
            "_view_module": "@jupyter-widgets/base",
            "_model_module_version": "1.5.0",
            "_view_count": null,
            "_view_module_version": "1.2.0",
            "_model_module": "@jupyter-widgets/controls"
          }
        },
        "1daf6f9aaa404bdc8ef064c8d968078b": {
          "model_module": "@jupyter-widgets/base",
          "model_name": "LayoutModel",
          "model_module_version": "1.2.0",
          "state": {
            "_view_name": "LayoutView",
            "grid_template_rows": null,
            "right": null,
            "justify_content": null,
            "_view_module": "@jupyter-widgets/base",
            "overflow": null,
            "_model_module_version": "1.2.0",
            "_view_count": null,
            "flex_flow": null,
            "width": null,
            "min_width": null,
            "border": null,
            "align_items": null,
            "bottom": null,
            "_model_module": "@jupyter-widgets/base",
            "top": null,
            "grid_column": null,
            "overflow_y": null,
            "overflow_x": null,
            "grid_auto_flow": null,
            "grid_area": null,
            "grid_template_columns": null,
            "flex": null,
            "_model_name": "LayoutModel",
            "justify_items": null,
            "grid_row": null,
            "max_height": null,
            "align_content": null,
            "visibility": null,
            "align_self": null,
            "height": null,
            "min_height": null,
            "padding": null,
            "grid_auto_rows": null,
            "grid_gap": null,
            "max_width": null,
            "order": null,
            "_view_module_version": "1.2.0",
            "grid_template_areas": null,
            "object_position": null,
            "object_fit": null,
            "grid_auto_columns": null,
            "margin": null,
            "display": null,
            "left": null
          }
        },
        "edea11a08bfd46acbe4ba61153bb0c94": {
          "model_module": "@jupyter-widgets/controls",
          "model_name": "ProgressStyleModel",
          "model_module_version": "1.5.0",
          "state": {
            "_view_name": "StyleView",
            "_model_name": "ProgressStyleModel",
            "description_width": "",
            "_view_module": "@jupyter-widgets/base",
            "_model_module_version": "1.5.0",
            "_view_count": null,
            "_view_module_version": "1.2.0",
            "bar_color": null,
            "_model_module": "@jupyter-widgets/controls"
          }
        },
        "067889f78a2c4e32bd2fbd0afd719f93": {
          "model_module": "@jupyter-widgets/base",
          "model_name": "LayoutModel",
          "model_module_version": "1.2.0",
          "state": {
            "_view_name": "LayoutView",
            "grid_template_rows": null,
            "right": null,
            "justify_content": null,
            "_view_module": "@jupyter-widgets/base",
            "overflow": null,
            "_model_module_version": "1.2.0",
            "_view_count": null,
            "flex_flow": null,
            "width": null,
            "min_width": null,
            "border": null,
            "align_items": null,
            "bottom": null,
            "_model_module": "@jupyter-widgets/base",
            "top": null,
            "grid_column": null,
            "overflow_y": null,
            "overflow_x": null,
            "grid_auto_flow": null,
            "grid_area": null,
            "grid_template_columns": null,
            "flex": null,
            "_model_name": "LayoutModel",
            "justify_items": null,
            "grid_row": null,
            "max_height": null,
            "align_content": null,
            "visibility": null,
            "align_self": null,
            "height": null,
            "min_height": null,
            "padding": null,
            "grid_auto_rows": null,
            "grid_gap": null,
            "max_width": null,
            "order": null,
            "_view_module_version": "1.2.0",
            "grid_template_areas": null,
            "object_position": null,
            "object_fit": null,
            "grid_auto_columns": null,
            "margin": null,
            "display": null,
            "left": null
          }
        },
        "25703eddd8684f97bd2c4cd44ad91906": {
          "model_module": "@jupyter-widgets/controls",
          "model_name": "DescriptionStyleModel",
          "model_module_version": "1.5.0",
          "state": {
            "_view_name": "StyleView",
            "_model_name": "DescriptionStyleModel",
            "description_width": "",
            "_view_module": "@jupyter-widgets/base",
            "_model_module_version": "1.5.0",
            "_view_count": null,
            "_view_module_version": "1.2.0",
            "_model_module": "@jupyter-widgets/controls"
          }
        },
        "5333b1b76f8a45cfa9ba6340eb2010ba": {
          "model_module": "@jupyter-widgets/base",
          "model_name": "LayoutModel",
          "model_module_version": "1.2.0",
          "state": {
            "_view_name": "LayoutView",
            "grid_template_rows": null,
            "right": null,
            "justify_content": null,
            "_view_module": "@jupyter-widgets/base",
            "overflow": null,
            "_model_module_version": "1.2.0",
            "_view_count": null,
            "flex_flow": null,
            "width": null,
            "min_width": null,
            "border": null,
            "align_items": null,
            "bottom": null,
            "_model_module": "@jupyter-widgets/base",
            "top": null,
            "grid_column": null,
            "overflow_y": null,
            "overflow_x": null,
            "grid_auto_flow": null,
            "grid_area": null,
            "grid_template_columns": null,
            "flex": null,
            "_model_name": "LayoutModel",
            "justify_items": null,
            "grid_row": null,
            "max_height": null,
            "align_content": null,
            "visibility": null,
            "align_self": null,
            "height": null,
            "min_height": null,
            "padding": null,
            "grid_auto_rows": null,
            "grid_gap": null,
            "max_width": null,
            "order": null,
            "_view_module_version": "1.2.0",
            "grid_template_areas": null,
            "object_position": null,
            "object_fit": null,
            "grid_auto_columns": null,
            "margin": null,
            "display": null,
            "left": null
          }
        },
        "33b93600b33845e29cc7545e54844ea5": {
          "model_module": "@jupyter-widgets/controls",
          "model_name": "HBoxModel",
          "model_module_version": "1.5.0",
          "state": {
            "_view_name": "HBoxView",
            "_dom_classes": [],
            "_model_name": "HBoxModel",
            "_view_module": "@jupyter-widgets/controls",
            "_model_module_version": "1.5.0",
            "_view_count": null,
            "_view_module_version": "1.5.0",
            "box_style": "",
            "layout": "IPY_MODEL_725323f37df446e8affa395ac60f6f27",
            "_model_module": "@jupyter-widgets/controls",
            "children": [
              "IPY_MODEL_7d378b0c52e142aaa3d5fe50e6afd52c",
              "IPY_MODEL_3b9f7b64de9743c5b96caf3b4f7e0066",
              "IPY_MODEL_ddaeff3a05b14b6a8c0a002612e58dd2"
            ]
          }
        },
        "725323f37df446e8affa395ac60f6f27": {
          "model_module": "@jupyter-widgets/base",
          "model_name": "LayoutModel",
          "model_module_version": "1.2.0",
          "state": {
            "_view_name": "LayoutView",
            "grid_template_rows": null,
            "right": null,
            "justify_content": null,
            "_view_module": "@jupyter-widgets/base",
            "overflow": null,
            "_model_module_version": "1.2.0",
            "_view_count": null,
            "flex_flow": null,
            "width": null,
            "min_width": null,
            "border": null,
            "align_items": null,
            "bottom": null,
            "_model_module": "@jupyter-widgets/base",
            "top": null,
            "grid_column": null,
            "overflow_y": null,
            "overflow_x": null,
            "grid_auto_flow": null,
            "grid_area": null,
            "grid_template_columns": null,
            "flex": null,
            "_model_name": "LayoutModel",
            "justify_items": null,
            "grid_row": null,
            "max_height": null,
            "align_content": null,
            "visibility": null,
            "align_self": null,
            "height": null,
            "min_height": null,
            "padding": null,
            "grid_auto_rows": null,
            "grid_gap": null,
            "max_width": null,
            "order": null,
            "_view_module_version": "1.2.0",
            "grid_template_areas": null,
            "object_position": null,
            "object_fit": null,
            "grid_auto_columns": null,
            "margin": null,
            "display": null,
            "left": null
          }
        },
        "7d378b0c52e142aaa3d5fe50e6afd52c": {
          "model_module": "@jupyter-widgets/controls",
          "model_name": "HTMLModel",
          "model_module_version": "1.5.0",
          "state": {
            "_view_name": "HTMLView",
            "style": "IPY_MODEL_e535836f6d30433399608242f336fd5d",
            "_dom_classes": [],
            "description": "",
            "_model_name": "HTMLModel",
            "placeholder": "​",
            "_view_module": "@jupyter-widgets/controls",
            "_model_module_version": "1.5.0",
            "value": "Downloading: 100%",
            "_view_count": null,
            "_view_module_version": "1.5.0",
            "description_tooltip": null,
            "_model_module": "@jupyter-widgets/controls",
            "layout": "IPY_MODEL_0cbee8a4ba50434ca08c0aab090c4542"
          }
        },
        "3b9f7b64de9743c5b96caf3b4f7e0066": {
          "model_module": "@jupyter-widgets/controls",
          "model_name": "FloatProgressModel",
          "model_module_version": "1.5.0",
          "state": {
            "_view_name": "ProgressView",
            "style": "IPY_MODEL_314a4944b4a84e5598b1883d3381bc31",
            "_dom_classes": [],
            "description": "",
            "_model_name": "FloatProgressModel",
            "bar_style": "success",
            "max": 231508,
            "_view_module": "@jupyter-widgets/controls",
            "_model_module_version": "1.5.0",
            "value": 231508,
            "_view_count": null,
            "_view_module_version": "1.5.0",
            "orientation": "horizontal",
            "min": 0,
            "description_tooltip": null,
            "_model_module": "@jupyter-widgets/controls",
            "layout": "IPY_MODEL_0d96585f8a1f475c9ee3f9e40a745d25"
          }
        },
        "ddaeff3a05b14b6a8c0a002612e58dd2": {
          "model_module": "@jupyter-widgets/controls",
          "model_name": "HTMLModel",
          "model_module_version": "1.5.0",
          "state": {
            "_view_name": "HTMLView",
            "style": "IPY_MODEL_c76c5ef563914265a8c38488284c31d7",
            "_dom_classes": [],
            "description": "",
            "_model_name": "HTMLModel",
            "placeholder": "​",
            "_view_module": "@jupyter-widgets/controls",
            "_model_module_version": "1.5.0",
            "value": " 226k/226k [00:00&lt;00:00, 1.69MB/s]",
            "_view_count": null,
            "_view_module_version": "1.5.0",
            "description_tooltip": null,
            "_model_module": "@jupyter-widgets/controls",
            "layout": "IPY_MODEL_337291ba93d84466b171d56b419348bd"
          }
        },
        "e535836f6d30433399608242f336fd5d": {
          "model_module": "@jupyter-widgets/controls",
          "model_name": "DescriptionStyleModel",
          "model_module_version": "1.5.0",
          "state": {
            "_view_name": "StyleView",
            "_model_name": "DescriptionStyleModel",
            "description_width": "",
            "_view_module": "@jupyter-widgets/base",
            "_model_module_version": "1.5.0",
            "_view_count": null,
            "_view_module_version": "1.2.0",
            "_model_module": "@jupyter-widgets/controls"
          }
        },
        "0cbee8a4ba50434ca08c0aab090c4542": {
          "model_module": "@jupyter-widgets/base",
          "model_name": "LayoutModel",
          "model_module_version": "1.2.0",
          "state": {
            "_view_name": "LayoutView",
            "grid_template_rows": null,
            "right": null,
            "justify_content": null,
            "_view_module": "@jupyter-widgets/base",
            "overflow": null,
            "_model_module_version": "1.2.0",
            "_view_count": null,
            "flex_flow": null,
            "width": null,
            "min_width": null,
            "border": null,
            "align_items": null,
            "bottom": null,
            "_model_module": "@jupyter-widgets/base",
            "top": null,
            "grid_column": null,
            "overflow_y": null,
            "overflow_x": null,
            "grid_auto_flow": null,
            "grid_area": null,
            "grid_template_columns": null,
            "flex": null,
            "_model_name": "LayoutModel",
            "justify_items": null,
            "grid_row": null,
            "max_height": null,
            "align_content": null,
            "visibility": null,
            "align_self": null,
            "height": null,
            "min_height": null,
            "padding": null,
            "grid_auto_rows": null,
            "grid_gap": null,
            "max_width": null,
            "order": null,
            "_view_module_version": "1.2.0",
            "grid_template_areas": null,
            "object_position": null,
            "object_fit": null,
            "grid_auto_columns": null,
            "margin": null,
            "display": null,
            "left": null
          }
        },
        "314a4944b4a84e5598b1883d3381bc31": {
          "model_module": "@jupyter-widgets/controls",
          "model_name": "ProgressStyleModel",
          "model_module_version": "1.5.0",
          "state": {
            "_view_name": "StyleView",
            "_model_name": "ProgressStyleModel",
            "description_width": "",
            "_view_module": "@jupyter-widgets/base",
            "_model_module_version": "1.5.0",
            "_view_count": null,
            "_view_module_version": "1.2.0",
            "bar_color": null,
            "_model_module": "@jupyter-widgets/controls"
          }
        },
        "0d96585f8a1f475c9ee3f9e40a745d25": {
          "model_module": "@jupyter-widgets/base",
          "model_name": "LayoutModel",
          "model_module_version": "1.2.0",
          "state": {
            "_view_name": "LayoutView",
            "grid_template_rows": null,
            "right": null,
            "justify_content": null,
            "_view_module": "@jupyter-widgets/base",
            "overflow": null,
            "_model_module_version": "1.2.0",
            "_view_count": null,
            "flex_flow": null,
            "width": null,
            "min_width": null,
            "border": null,
            "align_items": null,
            "bottom": null,
            "_model_module": "@jupyter-widgets/base",
            "top": null,
            "grid_column": null,
            "overflow_y": null,
            "overflow_x": null,
            "grid_auto_flow": null,
            "grid_area": null,
            "grid_template_columns": null,
            "flex": null,
            "_model_name": "LayoutModel",
            "justify_items": null,
            "grid_row": null,
            "max_height": null,
            "align_content": null,
            "visibility": null,
            "align_self": null,
            "height": null,
            "min_height": null,
            "padding": null,
            "grid_auto_rows": null,
            "grid_gap": null,
            "max_width": null,
            "order": null,
            "_view_module_version": "1.2.0",
            "grid_template_areas": null,
            "object_position": null,
            "object_fit": null,
            "grid_auto_columns": null,
            "margin": null,
            "display": null,
            "left": null
          }
        },
        "c76c5ef563914265a8c38488284c31d7": {
          "model_module": "@jupyter-widgets/controls",
          "model_name": "DescriptionStyleModel",
          "model_module_version": "1.5.0",
          "state": {
            "_view_name": "StyleView",
            "_model_name": "DescriptionStyleModel",
            "description_width": "",
            "_view_module": "@jupyter-widgets/base",
            "_model_module_version": "1.5.0",
            "_view_count": null,
            "_view_module_version": "1.2.0",
            "_model_module": "@jupyter-widgets/controls"
          }
        },
        "337291ba93d84466b171d56b419348bd": {
          "model_module": "@jupyter-widgets/base",
          "model_name": "LayoutModel",
          "model_module_version": "1.2.0",
          "state": {
            "_view_name": "LayoutView",
            "grid_template_rows": null,
            "right": null,
            "justify_content": null,
            "_view_module": "@jupyter-widgets/base",
            "overflow": null,
            "_model_module_version": "1.2.0",
            "_view_count": null,
            "flex_flow": null,
            "width": null,
            "min_width": null,
            "border": null,
            "align_items": null,
            "bottom": null,
            "_model_module": "@jupyter-widgets/base",
            "top": null,
            "grid_column": null,
            "overflow_y": null,
            "overflow_x": null,
            "grid_auto_flow": null,
            "grid_area": null,
            "grid_template_columns": null,
            "flex": null,
            "_model_name": "LayoutModel",
            "justify_items": null,
            "grid_row": null,
            "max_height": null,
            "align_content": null,
            "visibility": null,
            "align_self": null,
            "height": null,
            "min_height": null,
            "padding": null,
            "grid_auto_rows": null,
            "grid_gap": null,
            "max_width": null,
            "order": null,
            "_view_module_version": "1.2.0",
            "grid_template_areas": null,
            "object_position": null,
            "object_fit": null,
            "grid_auto_columns": null,
            "margin": null,
            "display": null,
            "left": null
          }
        },
        "7c40a8e9748d4b5a8e81b446a585c742": {
          "model_module": "@jupyter-widgets/controls",
          "model_name": "HBoxModel",
          "model_module_version": "1.5.0",
          "state": {
            "_view_name": "HBoxView",
            "_dom_classes": [],
            "_model_name": "HBoxModel",
            "_view_module": "@jupyter-widgets/controls",
            "_model_module_version": "1.5.0",
            "_view_count": null,
            "_view_module_version": "1.5.0",
            "box_style": "",
            "layout": "IPY_MODEL_04677ce8690b4e2c9058aceb9bbabbd7",
            "_model_module": "@jupyter-widgets/controls",
            "children": [
              "IPY_MODEL_fbe5bd904241455895960021d8999d1e",
              "IPY_MODEL_bc8ef55009de4e79b6efc969149e5781",
              "IPY_MODEL_8a5baae70c4746d9a2dd19047b9a2f3f"
            ]
          }
        },
        "04677ce8690b4e2c9058aceb9bbabbd7": {
          "model_module": "@jupyter-widgets/base",
          "model_name": "LayoutModel",
          "model_module_version": "1.2.0",
          "state": {
            "_view_name": "LayoutView",
            "grid_template_rows": null,
            "right": null,
            "justify_content": null,
            "_view_module": "@jupyter-widgets/base",
            "overflow": null,
            "_model_module_version": "1.2.0",
            "_view_count": null,
            "flex_flow": null,
            "width": null,
            "min_width": null,
            "border": null,
            "align_items": null,
            "bottom": null,
            "_model_module": "@jupyter-widgets/base",
            "top": null,
            "grid_column": null,
            "overflow_y": null,
            "overflow_x": null,
            "grid_auto_flow": null,
            "grid_area": null,
            "grid_template_columns": null,
            "flex": null,
            "_model_name": "LayoutModel",
            "justify_items": null,
            "grid_row": null,
            "max_height": null,
            "align_content": null,
            "visibility": null,
            "align_self": null,
            "height": null,
            "min_height": null,
            "padding": null,
            "grid_auto_rows": null,
            "grid_gap": null,
            "max_width": null,
            "order": null,
            "_view_module_version": "1.2.0",
            "grid_template_areas": null,
            "object_position": null,
            "object_fit": null,
            "grid_auto_columns": null,
            "margin": null,
            "display": null,
            "left": null
          }
        },
        "fbe5bd904241455895960021d8999d1e": {
          "model_module": "@jupyter-widgets/controls",
          "model_name": "HTMLModel",
          "model_module_version": "1.5.0",
          "state": {
            "_view_name": "HTMLView",
            "style": "IPY_MODEL_87fa13754c8c4d5380658ce6b6628c4d",
            "_dom_classes": [],
            "description": "",
            "_model_name": "HTMLModel",
            "placeholder": "​",
            "_view_module": "@jupyter-widgets/controls",
            "_model_module_version": "1.5.0",
            "value": "Downloading: 100%",
            "_view_count": null,
            "_view_module_version": "1.5.0",
            "description_tooltip": null,
            "_model_module": "@jupyter-widgets/controls",
            "layout": "IPY_MODEL_dddb805841734446aa443fb70bfa0137"
          }
        },
        "bc8ef55009de4e79b6efc969149e5781": {
          "model_module": "@jupyter-widgets/controls",
          "model_name": "FloatProgressModel",
          "model_module_version": "1.5.0",
          "state": {
            "_view_name": "ProgressView",
            "style": "IPY_MODEL_e99c479c60ac4c72b4c96ebf5c383f3b",
            "_dom_classes": [],
            "description": "",
            "_model_name": "FloatProgressModel",
            "bar_style": "success",
            "max": 28,
            "_view_module": "@jupyter-widgets/controls",
            "_model_module_version": "1.5.0",
            "value": 28,
            "_view_count": null,
            "_view_module_version": "1.5.0",
            "orientation": "horizontal",
            "min": 0,
            "description_tooltip": null,
            "_model_module": "@jupyter-widgets/controls",
            "layout": "IPY_MODEL_be8ad25c5e1e4c97955d41e8f1569b53"
          }
        },
        "8a5baae70c4746d9a2dd19047b9a2f3f": {
          "model_module": "@jupyter-widgets/controls",
          "model_name": "HTMLModel",
          "model_module_version": "1.5.0",
          "state": {
            "_view_name": "HTMLView",
            "style": "IPY_MODEL_0055fda25cdc484d8580d031eb890ede",
            "_dom_classes": [],
            "description": "",
            "_model_name": "HTMLModel",
            "placeholder": "​",
            "_view_module": "@jupyter-widgets/controls",
            "_model_module_version": "1.5.0",
            "value": " 28.0/28.0 [00:00&lt;00:00, 689B/s]",
            "_view_count": null,
            "_view_module_version": "1.5.0",
            "description_tooltip": null,
            "_model_module": "@jupyter-widgets/controls",
            "layout": "IPY_MODEL_d9ac8eab45e04c50a7516e6d19fa5b88"
          }
        },
        "87fa13754c8c4d5380658ce6b6628c4d": {
          "model_module": "@jupyter-widgets/controls",
          "model_name": "DescriptionStyleModel",
          "model_module_version": "1.5.0",
          "state": {
            "_view_name": "StyleView",
            "_model_name": "DescriptionStyleModel",
            "description_width": "",
            "_view_module": "@jupyter-widgets/base",
            "_model_module_version": "1.5.0",
            "_view_count": null,
            "_view_module_version": "1.2.0",
            "_model_module": "@jupyter-widgets/controls"
          }
        },
        "dddb805841734446aa443fb70bfa0137": {
          "model_module": "@jupyter-widgets/base",
          "model_name": "LayoutModel",
          "model_module_version": "1.2.0",
          "state": {
            "_view_name": "LayoutView",
            "grid_template_rows": null,
            "right": null,
            "justify_content": null,
            "_view_module": "@jupyter-widgets/base",
            "overflow": null,
            "_model_module_version": "1.2.0",
            "_view_count": null,
            "flex_flow": null,
            "width": null,
            "min_width": null,
            "border": null,
            "align_items": null,
            "bottom": null,
            "_model_module": "@jupyter-widgets/base",
            "top": null,
            "grid_column": null,
            "overflow_y": null,
            "overflow_x": null,
            "grid_auto_flow": null,
            "grid_area": null,
            "grid_template_columns": null,
            "flex": null,
            "_model_name": "LayoutModel",
            "justify_items": null,
            "grid_row": null,
            "max_height": null,
            "align_content": null,
            "visibility": null,
            "align_self": null,
            "height": null,
            "min_height": null,
            "padding": null,
            "grid_auto_rows": null,
            "grid_gap": null,
            "max_width": null,
            "order": null,
            "_view_module_version": "1.2.0",
            "grid_template_areas": null,
            "object_position": null,
            "object_fit": null,
            "grid_auto_columns": null,
            "margin": null,
            "display": null,
            "left": null
          }
        },
        "e99c479c60ac4c72b4c96ebf5c383f3b": {
          "model_module": "@jupyter-widgets/controls",
          "model_name": "ProgressStyleModel",
          "model_module_version": "1.5.0",
          "state": {
            "_view_name": "StyleView",
            "_model_name": "ProgressStyleModel",
            "description_width": "",
            "_view_module": "@jupyter-widgets/base",
            "_model_module_version": "1.5.0",
            "_view_count": null,
            "_view_module_version": "1.2.0",
            "bar_color": null,
            "_model_module": "@jupyter-widgets/controls"
          }
        },
        "be8ad25c5e1e4c97955d41e8f1569b53": {
          "model_module": "@jupyter-widgets/base",
          "model_name": "LayoutModel",
          "model_module_version": "1.2.0",
          "state": {
            "_view_name": "LayoutView",
            "grid_template_rows": null,
            "right": null,
            "justify_content": null,
            "_view_module": "@jupyter-widgets/base",
            "overflow": null,
            "_model_module_version": "1.2.0",
            "_view_count": null,
            "flex_flow": null,
            "width": null,
            "min_width": null,
            "border": null,
            "align_items": null,
            "bottom": null,
            "_model_module": "@jupyter-widgets/base",
            "top": null,
            "grid_column": null,
            "overflow_y": null,
            "overflow_x": null,
            "grid_auto_flow": null,
            "grid_area": null,
            "grid_template_columns": null,
            "flex": null,
            "_model_name": "LayoutModel",
            "justify_items": null,
            "grid_row": null,
            "max_height": null,
            "align_content": null,
            "visibility": null,
            "align_self": null,
            "height": null,
            "min_height": null,
            "padding": null,
            "grid_auto_rows": null,
            "grid_gap": null,
            "max_width": null,
            "order": null,
            "_view_module_version": "1.2.0",
            "grid_template_areas": null,
            "object_position": null,
            "object_fit": null,
            "grid_auto_columns": null,
            "margin": null,
            "display": null,
            "left": null
          }
        },
        "0055fda25cdc484d8580d031eb890ede": {
          "model_module": "@jupyter-widgets/controls",
          "model_name": "DescriptionStyleModel",
          "model_module_version": "1.5.0",
          "state": {
            "_view_name": "StyleView",
            "_model_name": "DescriptionStyleModel",
            "description_width": "",
            "_view_module": "@jupyter-widgets/base",
            "_model_module_version": "1.5.0",
            "_view_count": null,
            "_view_module_version": "1.2.0",
            "_model_module": "@jupyter-widgets/controls"
          }
        },
        "d9ac8eab45e04c50a7516e6d19fa5b88": {
          "model_module": "@jupyter-widgets/base",
          "model_name": "LayoutModel",
          "model_module_version": "1.2.0",
          "state": {
            "_view_name": "LayoutView",
            "grid_template_rows": null,
            "right": null,
            "justify_content": null,
            "_view_module": "@jupyter-widgets/base",
            "overflow": null,
            "_model_module_version": "1.2.0",
            "_view_count": null,
            "flex_flow": null,
            "width": null,
            "min_width": null,
            "border": null,
            "align_items": null,
            "bottom": null,
            "_model_module": "@jupyter-widgets/base",
            "top": null,
            "grid_column": null,
            "overflow_y": null,
            "overflow_x": null,
            "grid_auto_flow": null,
            "grid_area": null,
            "grid_template_columns": null,
            "flex": null,
            "_model_name": "LayoutModel",
            "justify_items": null,
            "grid_row": null,
            "max_height": null,
            "align_content": null,
            "visibility": null,
            "align_self": null,
            "height": null,
            "min_height": null,
            "padding": null,
            "grid_auto_rows": null,
            "grid_gap": null,
            "max_width": null,
            "order": null,
            "_view_module_version": "1.2.0",
            "grid_template_areas": null,
            "object_position": null,
            "object_fit": null,
            "grid_auto_columns": null,
            "margin": null,
            "display": null,
            "left": null
          }
        }
      }
    }
  },
  "cells": [
    {
      "cell_type": "markdown",
      "source": [
        "#Import the library"
      ],
      "metadata": {
        "id": "LqjwInn6jsW7"
      }
    },
    {
      "cell_type": "code",
      "execution_count": null,
      "metadata": {
        "id": "BbhE-lx-igLa"
      },
      "outputs": [],
      "source": [
        "import pandas as pd\n",
        "import numpy as np\n",
        "import matplotlib.pyplot as plt\n",
        "import seaborn as sns "
      ]
    },
    {
      "cell_type": "code",
      "source": [
        "!pip install transformers "
      ],
      "metadata": {
        "colab": {
          "base_uri": "https://localhost:8080/"
        },
        "id": "H4zojk6-kDSQ",
        "outputId": "b3bb71b8-e4e5-420a-e0b5-7dfd923edc0c"
      },
      "execution_count": null,
      "outputs": [
        {
          "output_type": "stream",
          "name": "stdout",
          "text": [
            "Collecting transformers\n",
            "  Downloading transformers-4.17.0-py3-none-any.whl (3.8 MB)\n",
            "\u001b[K     |████████████████████████████████| 3.8 MB 5.3 MB/s \n",
            "\u001b[?25hRequirement already satisfied: packaging>=20.0 in /usr/local/lib/python3.7/dist-packages (from transformers) (21.3)\n",
            "Requirement already satisfied: regex!=2019.12.17 in /usr/local/lib/python3.7/dist-packages (from transformers) (2019.12.20)\n",
            "Requirement already satisfied: requests in /usr/local/lib/python3.7/dist-packages (from transformers) (2.23.0)\n",
            "Collecting sacremoses\n",
            "  Downloading sacremoses-0.0.47-py2.py3-none-any.whl (895 kB)\n",
            "\u001b[K     |████████████████████████████████| 895 kB 32.5 MB/s \n",
            "\u001b[?25hCollecting huggingface-hub<1.0,>=0.1.0\n",
            "  Downloading huggingface_hub-0.4.0-py3-none-any.whl (67 kB)\n",
            "\u001b[K     |████████████████████████████████| 67 kB 5.2 MB/s \n",
            "\u001b[?25hRequirement already satisfied: importlib-metadata in /usr/local/lib/python3.7/dist-packages (from transformers) (4.11.2)\n",
            "Requirement already satisfied: numpy>=1.17 in /usr/local/lib/python3.7/dist-packages (from transformers) (1.21.5)\n",
            "Collecting pyyaml>=5.1\n",
            "  Downloading PyYAML-6.0-cp37-cp37m-manylinux_2_5_x86_64.manylinux1_x86_64.manylinux_2_12_x86_64.manylinux2010_x86_64.whl (596 kB)\n",
            "\u001b[K     |████████████████████████████████| 596 kB 28.2 MB/s \n",
            "\u001b[?25hCollecting tokenizers!=0.11.3,>=0.11.1\n",
            "  Downloading tokenizers-0.11.6-cp37-cp37m-manylinux_2_12_x86_64.manylinux2010_x86_64.whl (6.5 MB)\n",
            "\u001b[K     |████████████████████████████████| 6.5 MB 33.2 MB/s \n",
            "\u001b[?25hRequirement already satisfied: filelock in /usr/local/lib/python3.7/dist-packages (from transformers) (3.6.0)\n",
            "Requirement already satisfied: tqdm>=4.27 in /usr/local/lib/python3.7/dist-packages (from transformers) (4.63.0)\n",
            "Requirement already satisfied: typing-extensions>=3.7.4.3 in /usr/local/lib/python3.7/dist-packages (from huggingface-hub<1.0,>=0.1.0->transformers) (3.10.0.2)\n",
            "Requirement already satisfied: pyparsing!=3.0.5,>=2.0.2 in /usr/local/lib/python3.7/dist-packages (from packaging>=20.0->transformers) (3.0.7)\n",
            "Requirement already satisfied: zipp>=0.5 in /usr/local/lib/python3.7/dist-packages (from importlib-metadata->transformers) (3.7.0)\n",
            "Requirement already satisfied: urllib3!=1.25.0,!=1.25.1,<1.26,>=1.21.1 in /usr/local/lib/python3.7/dist-packages (from requests->transformers) (1.24.3)\n",
            "Requirement already satisfied: idna<3,>=2.5 in /usr/local/lib/python3.7/dist-packages (from requests->transformers) (2.10)\n",
            "Requirement already satisfied: certifi>=2017.4.17 in /usr/local/lib/python3.7/dist-packages (from requests->transformers) (2021.10.8)\n",
            "Requirement already satisfied: chardet<4,>=3.0.2 in /usr/local/lib/python3.7/dist-packages (from requests->transformers) (3.0.4)\n",
            "Requirement already satisfied: click in /usr/local/lib/python3.7/dist-packages (from sacremoses->transformers) (7.1.2)\n",
            "Requirement already satisfied: six in /usr/local/lib/python3.7/dist-packages (from sacremoses->transformers) (1.15.0)\n",
            "Requirement already satisfied: joblib in /usr/local/lib/python3.7/dist-packages (from sacremoses->transformers) (1.1.0)\n",
            "Installing collected packages: pyyaml, tokenizers, sacremoses, huggingface-hub, transformers\n",
            "  Attempting uninstall: pyyaml\n",
            "    Found existing installation: PyYAML 3.13\n",
            "    Uninstalling PyYAML-3.13:\n",
            "      Successfully uninstalled PyYAML-3.13\n",
            "Successfully installed huggingface-hub-0.4.0 pyyaml-6.0 sacremoses-0.0.47 tokenizers-0.11.6 transformers-4.17.0\n"
          ]
        }
      ]
    },
    {
      "cell_type": "code",
      "source": [
        "import torch \n",
        "from transformers import BertForQuestionAnswering, BertTokenizer"
      ],
      "metadata": {
        "id": "e2yAACOVkPez"
      },
      "execution_count": null,
      "outputs": []
    },
    {
      "cell_type": "markdown",
      "source": [
        "#Preprocess Data"
      ],
      "metadata": {
        "id": "UWvf-mZhkj91"
      }
    },
    {
      "cell_type": "markdown",
      "source": [
        "##Data Loading"
      ],
      "metadata": {
        "id": "kUyNISW8kloF"
      }
    },
    {
      "cell_type": "code",
      "source": [
        "coqa = pd.read_json(\"http://downloads.cs.stanford.edu/nlp/data/coqa/coqa-train-v1.0.json\")\n",
        "coqa.head()"
      ],
      "metadata": {
        "colab": {
          "base_uri": "https://localhost:8080/",
          "height": 206
        },
        "id": "tak_Pz1Fkgpy",
        "outputId": "acfc09af-10a8-461f-bd32-865c8aac7364"
      },
      "execution_count": null,
      "outputs": [
        {
          "output_type": "execute_result",
          "data": {
            "text/html": [
              "\n",
              "  <div id=\"df-1b89316e-6d72-4fba-a928-43c2a3128111\">\n",
              "    <div class=\"colab-df-container\">\n",
              "      <div>\n",
              "<style scoped>\n",
              "    .dataframe tbody tr th:only-of-type {\n",
              "        vertical-align: middle;\n",
              "    }\n",
              "\n",
              "    .dataframe tbody tr th {\n",
              "        vertical-align: top;\n",
              "    }\n",
              "\n",
              "    .dataframe thead th {\n",
              "        text-align: right;\n",
              "    }\n",
              "</style>\n",
              "<table border=\"1\" class=\"dataframe\">\n",
              "  <thead>\n",
              "    <tr style=\"text-align: right;\">\n",
              "      <th></th>\n",
              "      <th>version</th>\n",
              "      <th>data</th>\n",
              "    </tr>\n",
              "  </thead>\n",
              "  <tbody>\n",
              "    <tr>\n",
              "      <th>0</th>\n",
              "      <td>1</td>\n",
              "      <td>{'source': 'wikipedia', 'id': '3zotghdk5ibi9ce...</td>\n",
              "    </tr>\n",
              "    <tr>\n",
              "      <th>1</th>\n",
              "      <td>1</td>\n",
              "      <td>{'source': 'cnn', 'id': '3wj1oxy92agboo5nlq4r7...</td>\n",
              "    </tr>\n",
              "    <tr>\n",
              "      <th>2</th>\n",
              "      <td>1</td>\n",
              "      <td>{'source': 'gutenberg', 'id': '3bdcf01ogxu7zdn...</td>\n",
              "    </tr>\n",
              "    <tr>\n",
              "      <th>3</th>\n",
              "      <td>1</td>\n",
              "      <td>{'source': 'cnn', 'id': '3ewijtffvo7wwchw6rtya...</td>\n",
              "    </tr>\n",
              "    <tr>\n",
              "      <th>4</th>\n",
              "      <td>1</td>\n",
              "      <td>{'source': 'gutenberg', 'id': '3urfvvm165iantk...</td>\n",
              "    </tr>\n",
              "  </tbody>\n",
              "</table>\n",
              "</div>\n",
              "      <button class=\"colab-df-convert\" onclick=\"convertToInteractive('df-1b89316e-6d72-4fba-a928-43c2a3128111')\"\n",
              "              title=\"Convert this dataframe to an interactive table.\"\n",
              "              style=\"display:none;\">\n",
              "        \n",
              "  <svg xmlns=\"http://www.w3.org/2000/svg\" height=\"24px\"viewBox=\"0 0 24 24\"\n",
              "       width=\"24px\">\n",
              "    <path d=\"M0 0h24v24H0V0z\" fill=\"none\"/>\n",
              "    <path d=\"M18.56 5.44l.94 2.06.94-2.06 2.06-.94-2.06-.94-.94-2.06-.94 2.06-2.06.94zm-11 1L8.5 8.5l.94-2.06 2.06-.94-2.06-.94L8.5 2.5l-.94 2.06-2.06.94zm10 10l.94 2.06.94-2.06 2.06-.94-2.06-.94-.94-2.06-.94 2.06-2.06.94z\"/><path d=\"M17.41 7.96l-1.37-1.37c-.4-.4-.92-.59-1.43-.59-.52 0-1.04.2-1.43.59L10.3 9.45l-7.72 7.72c-.78.78-.78 2.05 0 2.83L4 21.41c.39.39.9.59 1.41.59.51 0 1.02-.2 1.41-.59l7.78-7.78 2.81-2.81c.8-.78.8-2.07 0-2.86zM5.41 20L4 18.59l7.72-7.72 1.47 1.35L5.41 20z\"/>\n",
              "  </svg>\n",
              "      </button>\n",
              "      \n",
              "  <style>\n",
              "    .colab-df-container {\n",
              "      display:flex;\n",
              "      flex-wrap:wrap;\n",
              "      gap: 12px;\n",
              "    }\n",
              "\n",
              "    .colab-df-convert {\n",
              "      background-color: #E8F0FE;\n",
              "      border: none;\n",
              "      border-radius: 50%;\n",
              "      cursor: pointer;\n",
              "      display: none;\n",
              "      fill: #1967D2;\n",
              "      height: 32px;\n",
              "      padding: 0 0 0 0;\n",
              "      width: 32px;\n",
              "    }\n",
              "\n",
              "    .colab-df-convert:hover {\n",
              "      background-color: #E2EBFA;\n",
              "      box-shadow: 0px 1px 2px rgba(60, 64, 67, 0.3), 0px 1px 3px 1px rgba(60, 64, 67, 0.15);\n",
              "      fill: #174EA6;\n",
              "    }\n",
              "\n",
              "    [theme=dark] .colab-df-convert {\n",
              "      background-color: #3B4455;\n",
              "      fill: #D2E3FC;\n",
              "    }\n",
              "\n",
              "    [theme=dark] .colab-df-convert:hover {\n",
              "      background-color: #434B5C;\n",
              "      box-shadow: 0px 1px 3px 1px rgba(0, 0, 0, 0.15);\n",
              "      filter: drop-shadow(0px 1px 2px rgba(0, 0, 0, 0.3));\n",
              "      fill: #FFFFFF;\n",
              "    }\n",
              "  </style>\n",
              "\n",
              "      <script>\n",
              "        const buttonEl =\n",
              "          document.querySelector('#df-1b89316e-6d72-4fba-a928-43c2a3128111 button.colab-df-convert');\n",
              "        buttonEl.style.display =\n",
              "          google.colab.kernel.accessAllowed ? 'block' : 'none';\n",
              "\n",
              "        async function convertToInteractive(key) {\n",
              "          const element = document.querySelector('#df-1b89316e-6d72-4fba-a928-43c2a3128111');\n",
              "          const dataTable =\n",
              "            await google.colab.kernel.invokeFunction('convertToInteractive',\n",
              "                                                     [key], {});\n",
              "          if (!dataTable) return;\n",
              "\n",
              "          const docLinkHtml = 'Like what you see? Visit the ' +\n",
              "            '<a target=\"_blank\" href=https://colab.research.google.com/notebooks/data_table.ipynb>data table notebook</a>'\n",
              "            + ' to learn more about interactive tables.';\n",
              "          element.innerHTML = '';\n",
              "          dataTable['output_type'] = 'display_data';\n",
              "          await google.colab.output.renderOutput(dataTable, element);\n",
              "          const docLink = document.createElement('div');\n",
              "          docLink.innerHTML = docLinkHtml;\n",
              "          element.appendChild(docLink);\n",
              "        }\n",
              "      </script>\n",
              "    </div>\n",
              "  </div>\n",
              "  "
            ],
            "text/plain": [
              "   version                                               data\n",
              "0        1  {'source': 'wikipedia', 'id': '3zotghdk5ibi9ce...\n",
              "1        1  {'source': 'cnn', 'id': '3wj1oxy92agboo5nlq4r7...\n",
              "2        1  {'source': 'gutenberg', 'id': '3bdcf01ogxu7zdn...\n",
              "3        1  {'source': 'cnn', 'id': '3ewijtffvo7wwchw6rtya...\n",
              "4        1  {'source': 'gutenberg', 'id': '3urfvvm165iantk..."
            ]
          },
          "metadata": {},
          "execution_count": 4
        }
      ]
    },
    {
      "cell_type": "code",
      "source": [
        "coqa[\"data\"][1]"
      ],
      "metadata": {
        "colab": {
          "base_uri": "https://localhost:8080/"
        },
        "id": "Lb4uf1AgkwY3",
        "outputId": "659a764f-02e1-4c54-e88d-608bf7730667"
      },
      "execution_count": null,
      "outputs": [
        {
          "output_type": "execute_result",
          "data": {
            "text/plain": [
              "{'answers': [{'input_text': 'Hard Rock Cafe',\n",
              "   'span_end': 284,\n",
              "   'span_start': 243,\n",
              "   'span_text': \"Hard Rock Cafe in New York's Times Square\",\n",
              "   'turn_id': 1},\n",
              "  {'input_text': '$2 million.',\n",
              "   'span_end': 210,\n",
              "   'span_start': 180,\n",
              "   'span_text': ' reaping a total $2 million. \\n',\n",
              "   'turn_id': 2},\n",
              "  {'input_text': '$120,000',\n",
              "   'span_end': 342,\n",
              "   'span_start': 292,\n",
              "   'span_text': ' pre-sale expectations of only $120,000 in sales. ',\n",
              "   'turn_id': 3},\n",
              "  {'input_text': 'Hoffman Ma',\n",
              "   'span_end': 1365,\n",
              "   'span_start': 1295,\n",
              "   'span_text': 'Hoffman Ma, who bought the glove on behalf of Ponte 16 Resort in Macau',\n",
              "   'turn_id': 4},\n",
              "  {'bad_turn': 'true',\n",
              "   'input_text': 'Macau',\n",
              "   'span_end': 1366,\n",
              "   'span_start': 1331,\n",
              "   'span_text': 'behalf of Ponte 16 Resort in Macau,',\n",
              "   'turn_id': 5}],\n",
              " 'filename': 'cnn_fe05c61a7e48461f7883cdec387567029614f07b.story',\n",
              " 'id': '3wj1oxy92agboo5nlq4r7bndc3t8a8',\n",
              " 'name': 'cnn_fe05c61a7e48461f7883cdec387567029614f07b.story',\n",
              " 'questions': [{'input_text': 'Where was the Auction held?', 'turn_id': 1},\n",
              "  {'input_text': 'How much did they make?', 'turn_id': 2},\n",
              "  {'input_text': 'How much did they expected?', 'turn_id': 3},\n",
              "  {'input_text': 'WHo buy the Jackson Glove', 'turn_id': 4},\n",
              "  {'input_text': 'Where was the buyer of the glove from?', 'turn_id': 5}],\n",
              " 'source': 'cnn',\n",
              " 'story': 'New York (CNN) -- More than 80 Michael Jackson collectibles -- including the late pop star\\'s famous rhinestone-studded glove from a 1983 performance -- were auctioned off Saturday, reaping a total $2 million. \\n\\nProfits from the auction at the Hard Rock Cafe in New York\\'s Times Square crushed pre-sale expectations of only $120,000 in sales. \\n\\nThe highly prized memorabilia, which included items spanning the many stages of Jackson\\'s career, came from more than 30 fans, associates and family members, who contacted Julien\\'s Auctions to sell their gifts and mementos of the singer. \\n\\nJackson\\'s flashy glove was the big-ticket item of the night, fetching $420,000 from a buyer in Hong Kong, China. Jackson wore the glove at a 1983 performance during \"Motown 25,\" an NBC special where he debuted his revolutionary moonwalk. \\n\\nFellow Motown star Walter \"Clyde\" Orange of the Commodores, who also performed in the special 26 years ago, said he asked for Jackson\\'s autograph at the time, but Jackson gave him the glove instead. \\n\\n\"The legacy that [Jackson] left behind is bigger than life for me,\" Orange said. \"I hope that through that glove people can see what he was trying to say in his music and what he said in his music.\" \\n\\nOrange said he plans to give a portion of the proceeds to charity. \\n\\nHoffman Ma, who bought the glove on behalf of Ponte 16 Resort in Macau, paid a 25 percent buyer\\'s premium, which was tacked onto all final sales over $50,000. Winners of items less than $50,000 paid a 20 percent premium. '}"
            ]
          },
          "metadata": {},
          "execution_count": 5
        }
      ]
    },
    {
      "cell_type": "markdown",
      "source": [
        "##Data Cleaning"
      ],
      "metadata": {
        "id": "0VZZkdS3lCID"
      }
    },
    {
      "cell_type": "code",
      "source": [
        "del coqa[\"version\"]"
      ],
      "metadata": {
        "id": "2obTEqeBk4wh"
      },
      "execution_count": null,
      "outputs": []
    },
    {
      "cell_type": "code",
      "source": [
        "coqa.head()"
      ],
      "metadata": {
        "colab": {
          "base_uri": "https://localhost:8080/",
          "height": 206
        },
        "id": "OjvakF0-lIJJ",
        "outputId": "f1cabbb2-a786-4bcb-b230-79c789305536"
      },
      "execution_count": null,
      "outputs": [
        {
          "output_type": "execute_result",
          "data": {
            "text/html": [
              "\n",
              "  <div id=\"df-18745edb-f9df-4dab-90e6-d741f34b08c3\">\n",
              "    <div class=\"colab-df-container\">\n",
              "      <div>\n",
              "<style scoped>\n",
              "    .dataframe tbody tr th:only-of-type {\n",
              "        vertical-align: middle;\n",
              "    }\n",
              "\n",
              "    .dataframe tbody tr th {\n",
              "        vertical-align: top;\n",
              "    }\n",
              "\n",
              "    .dataframe thead th {\n",
              "        text-align: right;\n",
              "    }\n",
              "</style>\n",
              "<table border=\"1\" class=\"dataframe\">\n",
              "  <thead>\n",
              "    <tr style=\"text-align: right;\">\n",
              "      <th></th>\n",
              "      <th>data</th>\n",
              "    </tr>\n",
              "  </thead>\n",
              "  <tbody>\n",
              "    <tr>\n",
              "      <th>0</th>\n",
              "      <td>{'source': 'wikipedia', 'id': '3zotghdk5ibi9ce...</td>\n",
              "    </tr>\n",
              "    <tr>\n",
              "      <th>1</th>\n",
              "      <td>{'source': 'cnn', 'id': '3wj1oxy92agboo5nlq4r7...</td>\n",
              "    </tr>\n",
              "    <tr>\n",
              "      <th>2</th>\n",
              "      <td>{'source': 'gutenberg', 'id': '3bdcf01ogxu7zdn...</td>\n",
              "    </tr>\n",
              "    <tr>\n",
              "      <th>3</th>\n",
              "      <td>{'source': 'cnn', 'id': '3ewijtffvo7wwchw6rtya...</td>\n",
              "    </tr>\n",
              "    <tr>\n",
              "      <th>4</th>\n",
              "      <td>{'source': 'gutenberg', 'id': '3urfvvm165iantk...</td>\n",
              "    </tr>\n",
              "  </tbody>\n",
              "</table>\n",
              "</div>\n",
              "      <button class=\"colab-df-convert\" onclick=\"convertToInteractive('df-18745edb-f9df-4dab-90e6-d741f34b08c3')\"\n",
              "              title=\"Convert this dataframe to an interactive table.\"\n",
              "              style=\"display:none;\">\n",
              "        \n",
              "  <svg xmlns=\"http://www.w3.org/2000/svg\" height=\"24px\"viewBox=\"0 0 24 24\"\n",
              "       width=\"24px\">\n",
              "    <path d=\"M0 0h24v24H0V0z\" fill=\"none\"/>\n",
              "    <path d=\"M18.56 5.44l.94 2.06.94-2.06 2.06-.94-2.06-.94-.94-2.06-.94 2.06-2.06.94zm-11 1L8.5 8.5l.94-2.06 2.06-.94-2.06-.94L8.5 2.5l-.94 2.06-2.06.94zm10 10l.94 2.06.94-2.06 2.06-.94-2.06-.94-.94-2.06-.94 2.06-2.06.94z\"/><path d=\"M17.41 7.96l-1.37-1.37c-.4-.4-.92-.59-1.43-.59-.52 0-1.04.2-1.43.59L10.3 9.45l-7.72 7.72c-.78.78-.78 2.05 0 2.83L4 21.41c.39.39.9.59 1.41.59.51 0 1.02-.2 1.41-.59l7.78-7.78 2.81-2.81c.8-.78.8-2.07 0-2.86zM5.41 20L4 18.59l7.72-7.72 1.47 1.35L5.41 20z\"/>\n",
              "  </svg>\n",
              "      </button>\n",
              "      \n",
              "  <style>\n",
              "    .colab-df-container {\n",
              "      display:flex;\n",
              "      flex-wrap:wrap;\n",
              "      gap: 12px;\n",
              "    }\n",
              "\n",
              "    .colab-df-convert {\n",
              "      background-color: #E8F0FE;\n",
              "      border: none;\n",
              "      border-radius: 50%;\n",
              "      cursor: pointer;\n",
              "      display: none;\n",
              "      fill: #1967D2;\n",
              "      height: 32px;\n",
              "      padding: 0 0 0 0;\n",
              "      width: 32px;\n",
              "    }\n",
              "\n",
              "    .colab-df-convert:hover {\n",
              "      background-color: #E2EBFA;\n",
              "      box-shadow: 0px 1px 2px rgba(60, 64, 67, 0.3), 0px 1px 3px 1px rgba(60, 64, 67, 0.15);\n",
              "      fill: #174EA6;\n",
              "    }\n",
              "\n",
              "    [theme=dark] .colab-df-convert {\n",
              "      background-color: #3B4455;\n",
              "      fill: #D2E3FC;\n",
              "    }\n",
              "\n",
              "    [theme=dark] .colab-df-convert:hover {\n",
              "      background-color: #434B5C;\n",
              "      box-shadow: 0px 1px 3px 1px rgba(0, 0, 0, 0.15);\n",
              "      filter: drop-shadow(0px 1px 2px rgba(0, 0, 0, 0.3));\n",
              "      fill: #FFFFFF;\n",
              "    }\n",
              "  </style>\n",
              "\n",
              "      <script>\n",
              "        const buttonEl =\n",
              "          document.querySelector('#df-18745edb-f9df-4dab-90e6-d741f34b08c3 button.colab-df-convert');\n",
              "        buttonEl.style.display =\n",
              "          google.colab.kernel.accessAllowed ? 'block' : 'none';\n",
              "\n",
              "        async function convertToInteractive(key) {\n",
              "          const element = document.querySelector('#df-18745edb-f9df-4dab-90e6-d741f34b08c3');\n",
              "          const dataTable =\n",
              "            await google.colab.kernel.invokeFunction('convertToInteractive',\n",
              "                                                     [key], {});\n",
              "          if (!dataTable) return;\n",
              "\n",
              "          const docLinkHtml = 'Like what you see? Visit the ' +\n",
              "            '<a target=\"_blank\" href=https://colab.research.google.com/notebooks/data_table.ipynb>data table notebook</a>'\n",
              "            + ' to learn more about interactive tables.';\n",
              "          element.innerHTML = '';\n",
              "          dataTable['output_type'] = 'display_data';\n",
              "          await google.colab.output.renderOutput(dataTable, element);\n",
              "          const docLink = document.createElement('div');\n",
              "          docLink.innerHTML = docLinkHtml;\n",
              "          element.appendChild(docLink);\n",
              "        }\n",
              "      </script>\n",
              "    </div>\n",
              "  </div>\n",
              "  "
            ],
            "text/plain": [
              "                                                data\n",
              "0  {'source': 'wikipedia', 'id': '3zotghdk5ibi9ce...\n",
              "1  {'source': 'cnn', 'id': '3wj1oxy92agboo5nlq4r7...\n",
              "2  {'source': 'gutenberg', 'id': '3bdcf01ogxu7zdn...\n",
              "3  {'source': 'cnn', 'id': '3ewijtffvo7wwchw6rtya...\n",
              "4  {'source': 'gutenberg', 'id': '3urfvvm165iantk..."
            ]
          },
          "metadata": {},
          "execution_count": 7
        }
      ]
    },
    {
      "cell_type": "code",
      "source": [
        "cols = [\"text\", \"questions\", \"answers\"]\n",
        "\n",
        "comp_list = []\n",
        "for index, row in coqa.iterrows():\n",
        "  for i in range(len(row[\"data\"][\"questions\"])):\n",
        "    temp_list = []\n",
        "    temp_list.append(row[\"data\"][\"story\"])\n",
        "    temp_list.append(row[\"data\"][\"questions\"][i][\"input_text\"])\n",
        "    temp_list.append(row[\"data\"][\"answers\"][i][\"input_text\"])\n",
        "    comp_list.append(temp_list)\n",
        "\n",
        "new_df = pd.DataFrame(comp_list, columns=cols) "
      ],
      "metadata": {
        "id": "dkVeONwelJuy"
      },
      "execution_count": null,
      "outputs": []
    },
    {
      "cell_type": "markdown",
      "source": [
        "##Saving Data to CSV File"
      ],
      "metadata": {
        "id": "FZeShfFuoQan"
      }
    },
    {
      "cell_type": "code",
      "source": [
        "new_df.to_csv(\"CoQA_data.csv\", index = False)"
      ],
      "metadata": {
        "id": "bt98PblNn_d3"
      },
      "execution_count": null,
      "outputs": []
    },
    {
      "cell_type": "markdown",
      "source": [
        "##Load File CSV "
      ],
      "metadata": {
        "id": "90MogA2zoTzA"
      }
    },
    {
      "cell_type": "code",
      "source": [
        "df = pd.read_csv(\"CoQA_data.csv\")"
      ],
      "metadata": {
        "id": "57XfEgBRoWdD"
      },
      "execution_count": null,
      "outputs": []
    },
    {
      "cell_type": "code",
      "source": [
        "df.head()"
      ],
      "metadata": {
        "colab": {
          "base_uri": "https://localhost:8080/",
          "height": 206
        },
        "id": "FfbHdPQ3oKR4",
        "outputId": "edd5a90b-8617-4666-b811-498a69999e03"
      },
      "execution_count": null,
      "outputs": [
        {
          "output_type": "execute_result",
          "data": {
            "text/html": [
              "\n",
              "  <div id=\"df-e9c1b1b1-196b-4892-92f1-2abcda53a9f1\">\n",
              "    <div class=\"colab-df-container\">\n",
              "      <div>\n",
              "<style scoped>\n",
              "    .dataframe tbody tr th:only-of-type {\n",
              "        vertical-align: middle;\n",
              "    }\n",
              "\n",
              "    .dataframe tbody tr th {\n",
              "        vertical-align: top;\n",
              "    }\n",
              "\n",
              "    .dataframe thead th {\n",
              "        text-align: right;\n",
              "    }\n",
              "</style>\n",
              "<table border=\"1\" class=\"dataframe\">\n",
              "  <thead>\n",
              "    <tr style=\"text-align: right;\">\n",
              "      <th></th>\n",
              "      <th>text</th>\n",
              "      <th>questions</th>\n",
              "      <th>answers</th>\n",
              "    </tr>\n",
              "  </thead>\n",
              "  <tbody>\n",
              "    <tr>\n",
              "      <th>0</th>\n",
              "      <td>The Vatican Apostolic Library (), more commonl...</td>\n",
              "      <td>When was the Vat formally opened?</td>\n",
              "      <td>It was formally established in 1475</td>\n",
              "    </tr>\n",
              "    <tr>\n",
              "      <th>1</th>\n",
              "      <td>The Vatican Apostolic Library (), more commonl...</td>\n",
              "      <td>what is the library for?</td>\n",
              "      <td>research</td>\n",
              "    </tr>\n",
              "    <tr>\n",
              "      <th>2</th>\n",
              "      <td>The Vatican Apostolic Library (), more commonl...</td>\n",
              "      <td>for what subjects?</td>\n",
              "      <td>history, and law</td>\n",
              "    </tr>\n",
              "    <tr>\n",
              "      <th>3</th>\n",
              "      <td>The Vatican Apostolic Library (), more commonl...</td>\n",
              "      <td>and?</td>\n",
              "      <td>philosophy, science and theology</td>\n",
              "    </tr>\n",
              "    <tr>\n",
              "      <th>4</th>\n",
              "      <td>The Vatican Apostolic Library (), more commonl...</td>\n",
              "      <td>what was started in 2014?</td>\n",
              "      <td>a  project</td>\n",
              "    </tr>\n",
              "  </tbody>\n",
              "</table>\n",
              "</div>\n",
              "      <button class=\"colab-df-convert\" onclick=\"convertToInteractive('df-e9c1b1b1-196b-4892-92f1-2abcda53a9f1')\"\n",
              "              title=\"Convert this dataframe to an interactive table.\"\n",
              "              style=\"display:none;\">\n",
              "        \n",
              "  <svg xmlns=\"http://www.w3.org/2000/svg\" height=\"24px\"viewBox=\"0 0 24 24\"\n",
              "       width=\"24px\">\n",
              "    <path d=\"M0 0h24v24H0V0z\" fill=\"none\"/>\n",
              "    <path d=\"M18.56 5.44l.94 2.06.94-2.06 2.06-.94-2.06-.94-.94-2.06-.94 2.06-2.06.94zm-11 1L8.5 8.5l.94-2.06 2.06-.94-2.06-.94L8.5 2.5l-.94 2.06-2.06.94zm10 10l.94 2.06.94-2.06 2.06-.94-2.06-.94-.94-2.06-.94 2.06-2.06.94z\"/><path d=\"M17.41 7.96l-1.37-1.37c-.4-.4-.92-.59-1.43-.59-.52 0-1.04.2-1.43.59L10.3 9.45l-7.72 7.72c-.78.78-.78 2.05 0 2.83L4 21.41c.39.39.9.59 1.41.59.51 0 1.02-.2 1.41-.59l7.78-7.78 2.81-2.81c.8-.78.8-2.07 0-2.86zM5.41 20L4 18.59l7.72-7.72 1.47 1.35L5.41 20z\"/>\n",
              "  </svg>\n",
              "      </button>\n",
              "      \n",
              "  <style>\n",
              "    .colab-df-container {\n",
              "      display:flex;\n",
              "      flex-wrap:wrap;\n",
              "      gap: 12px;\n",
              "    }\n",
              "\n",
              "    .colab-df-convert {\n",
              "      background-color: #E8F0FE;\n",
              "      border: none;\n",
              "      border-radius: 50%;\n",
              "      cursor: pointer;\n",
              "      display: none;\n",
              "      fill: #1967D2;\n",
              "      height: 32px;\n",
              "      padding: 0 0 0 0;\n",
              "      width: 32px;\n",
              "    }\n",
              "\n",
              "    .colab-df-convert:hover {\n",
              "      background-color: #E2EBFA;\n",
              "      box-shadow: 0px 1px 2px rgba(60, 64, 67, 0.3), 0px 1px 3px 1px rgba(60, 64, 67, 0.15);\n",
              "      fill: #174EA6;\n",
              "    }\n",
              "\n",
              "    [theme=dark] .colab-df-convert {\n",
              "      background-color: #3B4455;\n",
              "      fill: #D2E3FC;\n",
              "    }\n",
              "\n",
              "    [theme=dark] .colab-df-convert:hover {\n",
              "      background-color: #434B5C;\n",
              "      box-shadow: 0px 1px 3px 1px rgba(0, 0, 0, 0.15);\n",
              "      filter: drop-shadow(0px 1px 2px rgba(0, 0, 0, 0.3));\n",
              "      fill: #FFFFFF;\n",
              "    }\n",
              "  </style>\n",
              "\n",
              "      <script>\n",
              "        const buttonEl =\n",
              "          document.querySelector('#df-e9c1b1b1-196b-4892-92f1-2abcda53a9f1 button.colab-df-convert');\n",
              "        buttonEl.style.display =\n",
              "          google.colab.kernel.accessAllowed ? 'block' : 'none';\n",
              "\n",
              "        async function convertToInteractive(key) {\n",
              "          const element = document.querySelector('#df-e9c1b1b1-196b-4892-92f1-2abcda53a9f1');\n",
              "          const dataTable =\n",
              "            await google.colab.kernel.invokeFunction('convertToInteractive',\n",
              "                                                     [key], {});\n",
              "          if (!dataTable) return;\n",
              "\n",
              "          const docLinkHtml = 'Like what you see? Visit the ' +\n",
              "            '<a target=\"_blank\" href=https://colab.research.google.com/notebooks/data_table.ipynb>data table notebook</a>'\n",
              "            + ' to learn more about interactive tables.';\n",
              "          element.innerHTML = '';\n",
              "          dataTable['output_type'] = 'display_data';\n",
              "          await google.colab.output.renderOutput(dataTable, element);\n",
              "          const docLink = document.createElement('div');\n",
              "          docLink.innerHTML = docLinkHtml;\n",
              "          element.appendChild(docLink);\n",
              "        }\n",
              "      </script>\n",
              "    </div>\n",
              "  </div>\n",
              "  "
            ],
            "text/plain": [
              "                                                text  \\\n",
              "0  The Vatican Apostolic Library (), more commonl...   \n",
              "1  The Vatican Apostolic Library (), more commonl...   \n",
              "2  The Vatican Apostolic Library (), more commonl...   \n",
              "3  The Vatican Apostolic Library (), more commonl...   \n",
              "4  The Vatican Apostolic Library (), more commonl...   \n",
              "\n",
              "                           questions                              answers  \n",
              "0  When was the Vat formally opened?  It was formally established in 1475  \n",
              "1           what is the library for?                             research  \n",
              "2                 for what subjects?                     history, and law  \n",
              "3                               and?     philosophy, science and theology  \n",
              "4          what was started in 2014?                           a  project  "
            ]
          },
          "metadata": {},
          "execution_count": 11
        }
      ]
    },
    {
      "cell_type": "code",
      "source": [
        "coqa[\"data\"][0]"
      ],
      "metadata": {
        "colab": {
          "base_uri": "https://localhost:8080/"
        },
        "id": "4qycbq8AoMhM",
        "outputId": "7b062f9c-767e-4713-ac48-e874998cac53"
      },
      "execution_count": null,
      "outputs": [
        {
          "output_type": "execute_result",
          "data": {
            "text/plain": [
              "{'answers': [{'input_text': 'It was formally established in 1475',\n",
              "   'span_end': 179,\n",
              "   'span_start': 151,\n",
              "   'span_text': 'Formally established in 1475',\n",
              "   'turn_id': 1},\n",
              "  {'input_text': 'research',\n",
              "   'span_end': 494,\n",
              "   'span_start': 454,\n",
              "   'span_text': 'he Vatican Library is a research library',\n",
              "   'turn_id': 2},\n",
              "  {'input_text': 'history, and law',\n",
              "   'span_end': 511,\n",
              "   'span_start': 457,\n",
              "   'span_text': 'Vatican Library is a research library for history, law',\n",
              "   'turn_id': 3},\n",
              "  {'input_text': 'philosophy, science and theology',\n",
              "   'span_end': 545,\n",
              "   'span_start': 457,\n",
              "   'span_text': 'Vatican Library is a research library for history, law, philosophy, science and theology',\n",
              "   'turn_id': 4},\n",
              "  {'input_text': 'a  project',\n",
              "   'span_end': 879,\n",
              "   'span_start': 769,\n",
              "   'span_text': 'March 2014, the Vatican Library began an initial four-year project of digitising its collection of manuscripts',\n",
              "   'turn_id': 5},\n",
              "  {'input_text': 'into periods',\n",
              "   'span_end': 1127,\n",
              "   'span_start': 1048,\n",
              "   'span_text': 'Scholars have traditionally divided the history of the library into five period',\n",
              "   'turn_id': 6},\n",
              "  {'input_text': 'five',\n",
              "   'span_end': 1128,\n",
              "   'span_start': 1048,\n",
              "   'span_text': 'Scholars have traditionally divided the history of the library into five periods',\n",
              "   'turn_id': 7},\n",
              "  {'input_text': 'The Vatican Apostolic Library',\n",
              "   'span_end': 94,\n",
              "   'span_start': 4,\n",
              "   'span_text': 'Vatican Apostolic Library (), more commonly called the Vatican Library or simply the Vat, ',\n",
              "   'turn_id': 8},\n",
              "  {'input_text': 'in Vatican City',\n",
              "   'span_end': 150,\n",
              "   'span_start': 94,\n",
              "   'span_text': 'is the library of the Holy See, located in Vatican City.',\n",
              "   'turn_id': 9},\n",
              "  {'input_text': '1.1 million',\n",
              "   'span_end': 412,\n",
              "   'span_start': 328,\n",
              "   'span_text': ' It has 75,000 codices from throughout history, as well as 1.1 million printed books',\n",
              "   'turn_id': 10},\n",
              "  {'input_text': 'at the beginning of the 17th century;',\n",
              "   'span_end': 1009,\n",
              "   'span_start': 917,\n",
              "   'span_text': 'atican Secret Archives were separated from the library at the beginning of the 17th century;',\n",
              "   'turn_id': 11},\n",
              "  {'input_text': '150,000',\n",
              "   'span_end': 1046,\n",
              "   'span_start': 915,\n",
              "   'span_text': ' Vatican Secret Archives were separated from the library at the beginning of the 17th century; they contain another 150,000 items. ',\n",
              "   'turn_id': 12},\n",
              "  {'input_text': 'anyone who can document their qualifications and research needs.',\n",
              "   'span_end': 643,\n",
              "   'span_start': 546,\n",
              "   'span_text': ' The Vatican Library is open to anyone who can document their qualifications and research needs. ',\n",
              "   'turn_id': 13},\n",
              "  {'bad_turn': 'true',\n",
              "   'input_text': 'unknown',\n",
              "   'span_end': -1,\n",
              "   'span_start': -1,\n",
              "   'span_text': 'unknown',\n",
              "   'turn_id': 14},\n",
              "  {'input_text': 'Photocopies',\n",
              "   'span_end': 764,\n",
              "   'span_start': 643,\n",
              "   'span_text': 'Photocopies for private study of pages from books published between 1801 and 1990 can be requested in person or by mail. ',\n",
              "   'turn_id': 15},\n",
              "  {'input_text': 'only books published between 1801 and 1990',\n",
              "   'span_end': 724,\n",
              "   'span_start': 644,\n",
              "   'span_text': 'hotocopies for private study of pages from books published between 1801 and 1990',\n",
              "   'turn_id': 16},\n",
              "  {'input_text': 'the Holy See',\n",
              "   'span_end': 125,\n",
              "   'span_start': 78,\n",
              "   'span_text': 'simply the Vat, is the library of the Holy See,',\n",
              "   'turn_id': 17},\n",
              "  {'input_text': 'a handful of volumes',\n",
              "   'span_end': 1384,\n",
              "   'span_start': 1192,\n",
              "   'span_text': 'Pre-Lateran period, comprising the initial days of the library, dated from the earliest days of the Church. Only a handful of volumes survive from this period, though some are very significant',\n",
              "   'turn_id': 18},\n",
              "  {'input_text': 'digitising manuscripts',\n",
              "   'span_end': 881,\n",
              "   'span_start': 785,\n",
              "   'span_text': 'Vatican Library began an initial four-year project of digitising its collection of manuscripts, ',\n",
              "   'turn_id': 19},\n",
              "  {'input_text': 'them to be viewed online.',\n",
              "   'span_end': 910,\n",
              "   'span_start': 868,\n",
              "   'span_text': 'manuscripts, to be made available online. ',\n",
              "   'turn_id': 20}],\n",
              " 'filename': 'Vatican_Library.txt',\n",
              " 'id': '3zotghdk5ibi9cex97fepx7jetpso7',\n",
              " 'name': 'Vatican_Library.txt',\n",
              " 'questions': [{'input_text': 'When was the Vat formally opened?',\n",
              "   'turn_id': 1},\n",
              "  {'input_text': 'what is the library for?', 'turn_id': 2},\n",
              "  {'input_text': 'for what subjects?', 'turn_id': 3},\n",
              "  {'input_text': 'and?', 'turn_id': 4},\n",
              "  {'input_text': 'what was started in 2014?', 'turn_id': 5},\n",
              "  {'input_text': 'how do scholars divide the library?', 'turn_id': 6},\n",
              "  {'input_text': 'how many?', 'turn_id': 7},\n",
              "  {'input_text': 'what is the official name of the Vat?', 'turn_id': 8},\n",
              "  {'input_text': 'where is it?', 'turn_id': 9},\n",
              "  {'input_text': 'how many printed books does it contain?', 'turn_id': 10},\n",
              "  {'input_text': 'when were the Secret Archives moved from the rest of the library?',\n",
              "   'turn_id': 11},\n",
              "  {'input_text': 'how many items are in this secret collection?',\n",
              "   'turn_id': 12},\n",
              "  {'input_text': 'Can anyone use this library?', 'turn_id': 13},\n",
              "  {'input_text': 'what must be requested to view?', 'turn_id': 14},\n",
              "  {'input_text': 'what must be requested in person or by mail?',\n",
              "   'turn_id': 15},\n",
              "  {'input_text': 'of what books?', 'turn_id': 16},\n",
              "  {'input_text': 'What is the Vat the library of?', 'turn_id': 17},\n",
              "  {'input_text': 'How many books survived the Pre Lateran period?',\n",
              "   'turn_id': 18},\n",
              "  {'input_text': 'what is the point of the project started in 2014?',\n",
              "   'turn_id': 19},\n",
              "  {'input_text': 'what will this allow?', 'turn_id': 20}],\n",
              " 'source': 'wikipedia',\n",
              " 'story': 'The Vatican Apostolic Library (), more commonly called the Vatican Library or simply the Vat, is the library of the Holy See, located in Vatican City. Formally established in 1475, although it is much older, it is one of the oldest libraries in the world and contains one of the most significant collections of historical texts. It has 75,000 codices from throughout history, as well as 1.1 million printed books, which include some 8,500 incunabula. \\n\\nThe Vatican Library is a research library for history, law, philosophy, science and theology. The Vatican Library is open to anyone who can document their qualifications and research needs. Photocopies for private study of pages from books published between 1801 and 1990 can be requested in person or by mail. \\n\\nIn March 2014, the Vatican Library began an initial four-year project of digitising its collection of manuscripts, to be made available online. \\n\\nThe Vatican Secret Archives were separated from the library at the beginning of the 17th century; they contain another 150,000 items. \\n\\nScholars have traditionally divided the history of the library into five periods, Pre-Lateran, Lateran, Avignon, Pre-Vatican and Vatican. \\n\\nThe Pre-Lateran period, comprising the initial days of the library, dated from the earliest days of the Church. Only a handful of volumes survive from this period, though some are very significant.'}"
            ]
          },
          "metadata": {},
          "execution_count": 12
        }
      ]
    },
    {
      "cell_type": "code",
      "source": [
        "print(\"Number of question and answers: \", len(df))"
      ],
      "metadata": {
        "colab": {
          "base_uri": "https://localhost:8080/"
        },
        "id": "CAsoE0HzooCS",
        "outputId": "3a1e2c82-bbab-4fef-da03-f20189a3d837"
      },
      "execution_count": null,
      "outputs": [
        {
          "output_type": "stream",
          "name": "stdout",
          "text": [
            "Number of question and answers:  108647\n"
          ]
        }
      ]
    },
    {
      "cell_type": "markdown",
      "source": [
        "#Building The ChatBot"
      ],
      "metadata": {
        "id": "kw11QCCspZ0n"
      }
    },
    {
      "cell_type": "code",
      "source": [
        "model = BertForQuestionAnswering.from_pretrained(\"bert-large-uncased-whole-word-masking-finetuned-squad\")\n",
        "tokenizer = BertTokenizer.from_pretrained(\"bert-large-uncased-whole-word-masking-finetuned-squad\")"
      ],
      "metadata": {
        "colab": {
          "base_uri": "https://localhost:8080/",
          "height": 145,
          "referenced_widgets": [
            "7b6c365e9c114445901a3e9556efac38",
            "22e79ba5c8a743a596cd5fc3cb12f960",
            "4a0eb430713a433e9f93bd70580fdbaa",
            "9c6daa38a8b14439954db7329587c8b3",
            "0d63aebf065549729256f8fef1427464",
            "7f325071f44042f4997e2604db6031e1",
            "a622fa7f3aa34229ac1bf2877fdcf99f",
            "cb804ca1e1144b3a8946303081a198bb",
            "0f04c6a10ca2417fb33d77f049c0dcc3",
            "d3e3aef6526a48e9aeff6d770af86ec0",
            "c3f1133675094ccb97e5f73e116be4a4",
            "98e6218a48b649beacc8652a3ae0d626",
            "24d047add30440579f18c030a3b5c3f1",
            "ec083836f57a451d9854bc594844d7cd",
            "f7d62467fee2486ca6a7bd05befdf2b8",
            "bcfc04c396bd42cb83cab016f0347ae3",
            "7bde77c45664444190ef319c39b532e5",
            "1daf6f9aaa404bdc8ef064c8d968078b",
            "edea11a08bfd46acbe4ba61153bb0c94",
            "067889f78a2c4e32bd2fbd0afd719f93",
            "25703eddd8684f97bd2c4cd44ad91906",
            "5333b1b76f8a45cfa9ba6340eb2010ba",
            "33b93600b33845e29cc7545e54844ea5",
            "725323f37df446e8affa395ac60f6f27",
            "7d378b0c52e142aaa3d5fe50e6afd52c",
            "3b9f7b64de9743c5b96caf3b4f7e0066",
            "ddaeff3a05b14b6a8c0a002612e58dd2",
            "e535836f6d30433399608242f336fd5d",
            "0cbee8a4ba50434ca08c0aab090c4542",
            "314a4944b4a84e5598b1883d3381bc31",
            "0d96585f8a1f475c9ee3f9e40a745d25",
            "c76c5ef563914265a8c38488284c31d7",
            "337291ba93d84466b171d56b419348bd",
            "7c40a8e9748d4b5a8e81b446a585c742",
            "04677ce8690b4e2c9058aceb9bbabbd7",
            "fbe5bd904241455895960021d8999d1e",
            "bc8ef55009de4e79b6efc969149e5781",
            "8a5baae70c4746d9a2dd19047b9a2f3f",
            "87fa13754c8c4d5380658ce6b6628c4d",
            "dddb805841734446aa443fb70bfa0137",
            "e99c479c60ac4c72b4c96ebf5c383f3b",
            "be8ad25c5e1e4c97955d41e8f1569b53",
            "0055fda25cdc484d8580d031eb890ede",
            "d9ac8eab45e04c50a7516e6d19fa5b88"
          ]
        },
        "id": "SSrGeuzvpGUE",
        "outputId": "e7235d72-94fb-47d6-ac2c-b180d6b05a62"
      },
      "execution_count": null,
      "outputs": [
        {
          "output_type": "display_data",
          "data": {
            "application/vnd.jupyter.widget-view+json": {
              "model_id": "7b6c365e9c114445901a3e9556efac38",
              "version_minor": 0,
              "version_major": 2
            },
            "text/plain": [
              "Downloading:   0%|          | 0.00/443 [00:00<?, ?B/s]"
            ]
          },
          "metadata": {}
        },
        {
          "output_type": "display_data",
          "data": {
            "application/vnd.jupyter.widget-view+json": {
              "model_id": "98e6218a48b649beacc8652a3ae0d626",
              "version_minor": 0,
              "version_major": 2
            },
            "text/plain": [
              "Downloading:   0%|          | 0.00/1.25G [00:00<?, ?B/s]"
            ]
          },
          "metadata": {}
        },
        {
          "output_type": "display_data",
          "data": {
            "application/vnd.jupyter.widget-view+json": {
              "model_id": "33b93600b33845e29cc7545e54844ea5",
              "version_minor": 0,
              "version_major": 2
            },
            "text/plain": [
              "Downloading:   0%|          | 0.00/226k [00:00<?, ?B/s]"
            ]
          },
          "metadata": {}
        },
        {
          "output_type": "display_data",
          "data": {
            "application/vnd.jupyter.widget-view+json": {
              "model_id": "7c40a8e9748d4b5a8e81b446a585c742",
              "version_minor": 0,
              "version_major": 2
            },
            "text/plain": [
              "Downloading:   0%|          | 0.00/28.0 [00:00<?, ?B/s]"
            ]
          },
          "metadata": {}
        }
      ]
    },
    {
      "cell_type": "code",
      "source": [
        "random_num = np.random.randint(0, len(df)) \n",
        "question = df[\"questions\"][random_num]\n",
        "text = df[\"text\"][random_num]"
      ],
      "metadata": {
        "id": "SYZjWx1cpnZr"
      },
      "execution_count": null,
      "outputs": []
    },
    {
      "cell_type": "code",
      "source": [
        "random_num"
      ],
      "metadata": {
        "colab": {
          "base_uri": "https://localhost:8080/"
        },
        "id": "OJ0oFmxHqeta",
        "outputId": "2ea08d14-acd3-4230-d44d-3ecebed9383c"
      },
      "execution_count": null,
      "outputs": [
        {
          "output_type": "execute_result",
          "data": {
            "text/plain": [
              "17762"
            ]
          },
          "metadata": {},
          "execution_count": 16
        }
      ]
    },
    {
      "cell_type": "code",
      "source": [
        "question"
      ],
      "metadata": {
        "colab": {
          "base_uri": "https://localhost:8080/",
          "height": 35
        },
        "id": "R-p7LF4WqVzb",
        "outputId": "d2d32bb4-6716-4629-fb34-e647bb33dd0d"
      },
      "execution_count": null,
      "outputs": [
        {
          "output_type": "execute_result",
          "data": {
            "application/vnd.google.colaboratory.intrinsic+json": {
              "type": "string"
            },
            "text/plain": [
              "'Who is on trial?'"
            ]
          },
          "metadata": {},
          "execution_count": 17
        }
      ]
    },
    {
      "cell_type": "code",
      "source": [
        "text"
      ],
      "metadata": {
        "colab": {
          "base_uri": "https://localhost:8080/",
          "height": 122
        },
        "id": "Djzq677VqYqI",
        "outputId": "1221b867-fdb4-469e-c45b-9015bb46f9cb"
      },
      "execution_count": null,
      "outputs": [
        {
          "output_type": "execute_result",
          "data": {
            "application/vnd.google.colaboratory.intrinsic+json": {
              "type": "string"
            },
            "text/plain": [
              "'(CNN) -- Jurors did not reach a verdict in their first day of deliberations Monday in the trial of Steven Hayes, the man accused of killing three members of a Connecticut family in a 2007 home invasion. \\n\\nThey are expected to resume their work Tuesday morning. \\n\\nHayes, 47, who has pleaded not guilty, is on trial in New Haven, Connecticut, for the murders of Jennifer Hawke-Petit and her two daughters. \\n\\nThe killings took place in the New Haven suburb of Cheshire early July 23, 2007. The home of William Petit, his wife, Hawke-Petit, and two daughters was invaded in the middle of the night by Hayes and co-defendant Joshua Komisarjevsky, prosecutors say. \\n\\nKomisarjevsky will be tried separately. \\n\\nJudge Jon Blue gave instructions Monday morning and told the jury: \"You are the sole judges of the facts.\" \\n\\n\"We\\'re in the home stretch,\" the judge said after going over all 17 counts with the jury. \"No one will hurry you to produce a verdict.\" \\n\\nTheir first duty will be to pick a foreman, and their verdict must be unanimous, the judge reminded the jurors. \\n\\nSoon after starting their deliberations, the jurors asked for a transcript of an interview by a state police detective, who spoke to Hayes soon after his arrest. The judge offered to have the testimony read back -- which the jurors declined. \\n\\nLater in the day, they sent a note to the judge asking for a definition of what constitutes starting a fire.Their deliberations Monday ran just over 2 hours. '"
            ]
          },
          "metadata": {},
          "execution_count": 18
        }
      ]
    },
    {
      "cell_type": "code",
      "source": [
        "print(question, \"\\n\", text)"
      ],
      "metadata": {
        "colab": {
          "base_uri": "https://localhost:8080/"
        },
        "id": "da-YVUZ7qIcT",
        "outputId": "66fd7c46-d3ea-45dd-ec2b-1e08ace0e09d"
      },
      "execution_count": null,
      "outputs": [
        {
          "output_type": "stream",
          "name": "stdout",
          "text": [
            "Who is on trial? \n",
            " (CNN) -- Jurors did not reach a verdict in their first day of deliberations Monday in the trial of Steven Hayes, the man accused of killing three members of a Connecticut family in a 2007 home invasion. \n",
            "\n",
            "They are expected to resume their work Tuesday morning. \n",
            "\n",
            "Hayes, 47, who has pleaded not guilty, is on trial in New Haven, Connecticut, for the murders of Jennifer Hawke-Petit and her two daughters. \n",
            "\n",
            "The killings took place in the New Haven suburb of Cheshire early July 23, 2007. The home of William Petit, his wife, Hawke-Petit, and two daughters was invaded in the middle of the night by Hayes and co-defendant Joshua Komisarjevsky, prosecutors say. \n",
            "\n",
            "Komisarjevsky will be tried separately. \n",
            "\n",
            "Judge Jon Blue gave instructions Monday morning and told the jury: \"You are the sole judges of the facts.\" \n",
            "\n",
            "\"We're in the home stretch,\" the judge said after going over all 17 counts with the jury. \"No one will hurry you to produce a verdict.\" \n",
            "\n",
            "Their first duty will be to pick a foreman, and their verdict must be unanimous, the judge reminded the jurors. \n",
            "\n",
            "Soon after starting their deliberations, the jurors asked for a transcript of an interview by a state police detective, who spoke to Hayes soon after his arrest. The judge offered to have the testimony read back -- which the jurors declined. \n",
            "\n",
            "Later in the day, they sent a note to the judge asking for a definition of what constitutes starting a fire.Their deliberations Monday ran just over 2 hours. \n"
          ]
        }
      ]
    },
    {
      "cell_type": "code",
      "source": [
        "input_ids = tokenizer.encode(question, text)\n",
        "print(\"The input has a total of {} tokens.\".format(len(input_ids)))"
      ],
      "metadata": {
        "colab": {
          "base_uri": "https://localhost:8080/"
        },
        "id": "XlxfgPAMqNAN",
        "outputId": "6c632281-2dd3-4b3e-f6cc-b360c8ef0ad5"
      },
      "execution_count": null,
      "outputs": [
        {
          "output_type": "stream",
          "name": "stdout",
          "text": [
            "The input has a total of 332 tokens.\n"
          ]
        }
      ]
    },
    {
      "cell_type": "code",
      "source": [
        "input_ids"
      ],
      "metadata": {
        "colab": {
          "base_uri": "https://localhost:8080/"
        },
        "id": "h0vocfKTtK8m",
        "outputId": "6110bc30-6489-4a34-f057-ffd0846cce4b"
      },
      "execution_count": null,
      "outputs": [
        {
          "output_type": "execute_result",
          "data": {
            "text/plain": [
              "[101,\n",
              " 2040,\n",
              " 2003,\n",
              " 2006,\n",
              " 3979,\n",
              " 1029,\n",
              " 102,\n",
              " 1006,\n",
              " 13229,\n",
              " 1007,\n",
              " 1011,\n",
              " 1011,\n",
              " 18414,\n",
              " 29165,\n",
              " 2015,\n",
              " 2106,\n",
              " 2025,\n",
              " 3362,\n",
              " 1037,\n",
              " 14392,\n",
              " 1999,\n",
              " 2037,\n",
              " 2034,\n",
              " 2154,\n",
              " 1997,\n",
              " 3972,\n",
              " 20755,\n",
              " 28893,\n",
              " 6928,\n",
              " 1999,\n",
              " 1996,\n",
              " 3979,\n",
              " 1997,\n",
              " 7112,\n",
              " 10192,\n",
              " 1010,\n",
              " 1996,\n",
              " 2158,\n",
              " 5496,\n",
              " 1997,\n",
              " 4288,\n",
              " 2093,\n",
              " 2372,\n",
              " 1997,\n",
              " 1037,\n",
              " 6117,\n",
              " 2155,\n",
              " 1999,\n",
              " 1037,\n",
              " 2289,\n",
              " 2188,\n",
              " 5274,\n",
              " 1012,\n",
              " 2027,\n",
              " 2024,\n",
              " 3517,\n",
              " 2000,\n",
              " 13746,\n",
              " 2037,\n",
              " 2147,\n",
              " 9857,\n",
              " 2851,\n",
              " 1012,\n",
              " 10192,\n",
              " 1010,\n",
              " 4700,\n",
              " 1010,\n",
              " 2040,\n",
              " 2038,\n",
              " 12254,\n",
              " 2025,\n",
              " 5905,\n",
              " 1010,\n",
              " 2003,\n",
              " 2006,\n",
              " 3979,\n",
              " 1999,\n",
              " 2047,\n",
              " 4033,\n",
              " 1010,\n",
              " 6117,\n",
              " 1010,\n",
              " 2005,\n",
              " 1996,\n",
              " 9916,\n",
              " 1997,\n",
              " 7673,\n",
              " 24882,\n",
              " 1011,\n",
              " 17268,\n",
              " 1998,\n",
              " 2014,\n",
              " 2048,\n",
              " 5727,\n",
              " 1012,\n",
              " 1996,\n",
              " 16431,\n",
              " 2165,\n",
              " 2173,\n",
              " 1999,\n",
              " 1996,\n",
              " 2047,\n",
              " 4033,\n",
              " 7575,\n",
              " 1997,\n",
              " 13789,\n",
              " 2220,\n",
              " 2251,\n",
              " 2603,\n",
              " 1010,\n",
              " 2289,\n",
              " 1012,\n",
              " 1996,\n",
              " 2188,\n",
              " 1997,\n",
              " 2520,\n",
              " 17268,\n",
              " 1010,\n",
              " 2010,\n",
              " 2564,\n",
              " 1010,\n",
              " 24882,\n",
              " 1011,\n",
              " 17268,\n",
              " 1010,\n",
              " 1998,\n",
              " 2048,\n",
              " 5727,\n",
              " 2001,\n",
              " 10836,\n",
              " 1999,\n",
              " 1996,\n",
              " 2690,\n",
              " 1997,\n",
              " 1996,\n",
              " 2305,\n",
              " 2011,\n",
              " 10192,\n",
              " 1998,\n",
              " 2522,\n",
              " 1011,\n",
              " 13474,\n",
              " 9122,\n",
              " 12849,\n",
              " 15630,\n",
              " 2906,\n",
              " 6460,\n",
              " 15904,\n",
              " 1010,\n",
              " 19608,\n",
              " 2360,\n",
              " 1012,\n",
              " 12849,\n",
              " 15630,\n",
              " 2906,\n",
              " 6460,\n",
              " 15904,\n",
              " 2097,\n",
              " 2022,\n",
              " 2699,\n",
              " 10329,\n",
              " 1012,\n",
              " 3648,\n",
              " 6285,\n",
              " 2630,\n",
              " 2435,\n",
              " 8128,\n",
              " 6928,\n",
              " 2851,\n",
              " 1998,\n",
              " 2409,\n",
              " 1996,\n",
              " 6467,\n",
              " 1024,\n",
              " 1000,\n",
              " 2017,\n",
              " 2024,\n",
              " 1996,\n",
              " 7082,\n",
              " 6794,\n",
              " 1997,\n",
              " 1996,\n",
              " 8866,\n",
              " 1012,\n",
              " 1000,\n",
              " 1000,\n",
              " 2057,\n",
              " 1005,\n",
              " 2128,\n",
              " 1999,\n",
              " 1996,\n",
              " 2188,\n",
              " 7683,\n",
              " 1010,\n",
              " 1000,\n",
              " 1996,\n",
              " 3648,\n",
              " 2056,\n",
              " 2044,\n",
              " 2183,\n",
              " 2058,\n",
              " 2035,\n",
              " 2459,\n",
              " 9294,\n",
              " 2007,\n",
              " 1996,\n",
              " 6467,\n",
              " 1012,\n",
              " 1000,\n",
              " 2053,\n",
              " 2028,\n",
              " 2097,\n",
              " 9241,\n",
              " 2017,\n",
              " 2000,\n",
              " 3965,\n",
              " 1037,\n",
              " 14392,\n",
              " 1012,\n",
              " 1000,\n",
              " 2037,\n",
              " 2034,\n",
              " 4611,\n",
              " 2097,\n",
              " 2022,\n",
              " 2000,\n",
              " 4060,\n",
              " 1037,\n",
              " 18031,\n",
              " 1010,\n",
              " 1998,\n",
              " 2037,\n",
              " 14392,\n",
              " 2442,\n",
              " 2022,\n",
              " 13604,\n",
              " 1010,\n",
              " 1996,\n",
              " 3648,\n",
              " 6966,\n",
              " 1996,\n",
              " 18414,\n",
              " 29165,\n",
              " 2015,\n",
              " 1012,\n",
              " 2574,\n",
              " 2044,\n",
              " 3225,\n",
              " 2037,\n",
              " 3972,\n",
              " 20755,\n",
              " 28893,\n",
              " 1010,\n",
              " 1996,\n",
              " 18414,\n",
              " 29165,\n",
              " 2015,\n",
              " 2356,\n",
              " 2005,\n",
              " 1037,\n",
              " 24051,\n",
              " 1997,\n",
              " 2019,\n",
              " 4357,\n",
              " 2011,\n",
              " 1037,\n",
              " 2110,\n",
              " 2610,\n",
              " 6317,\n",
              " 1010,\n",
              " 2040,\n",
              " 3764,\n",
              " 2000,\n",
              " 10192,\n",
              " 2574,\n",
              " 2044,\n",
              " 2010,\n",
              " 6545,\n",
              " 1012,\n",
              " 1996,\n",
              " 3648,\n",
              " 3253,\n",
              " 2000,\n",
              " 2031,\n",
              " 1996,\n",
              " 10896,\n",
              " 3191,\n",
              " 2067,\n",
              " 1011,\n",
              " 1011,\n",
              " 2029,\n",
              " 1996,\n",
              " 18414,\n",
              " 29165,\n",
              " 2015,\n",
              " 6430,\n",
              " 1012,\n",
              " 2101,\n",
              " 1999,\n",
              " 1996,\n",
              " 2154,\n",
              " 1010,\n",
              " 2027,\n",
              " 2741,\n",
              " 1037,\n",
              " 3602,\n",
              " 2000,\n",
              " 1996,\n",
              " 3648,\n",
              " 4851,\n",
              " 2005,\n",
              " 1037,\n",
              " 6210,\n",
              " 1997,\n",
              " 2054,\n",
              " 17367,\n",
              " 3225,\n",
              " 1037,\n",
              " 2543,\n",
              " 1012,\n",
              " 2037,\n",
              " 3972,\n",
              " 20755,\n",
              " 28893,\n",
              " 6928,\n",
              " 2743,\n",
              " 2074,\n",
              " 2058,\n",
              " 1016,\n",
              " 2847,\n",
              " 1012,\n",
              " 102]"
            ]
          },
          "metadata": {},
          "execution_count": 21
        }
      ]
    },
    {
      "cell_type": "code",
      "source": [
        "tokens = tokenizer.convert_ids_to_tokens(input_ids)\n",
        "for token, id in zip(tokens, input_ids):\n",
        "  print('{:8}{:8,}'.format(token,id))"
      ],
      "metadata": {
        "colab": {
          "base_uri": "https://localhost:8080/"
        },
        "id": "k5_c37hGqpA9",
        "outputId": "362ce9c7-30e3-4c9c-c212-9be6aa727b72"
      },
      "execution_count": null,
      "outputs": [
        {
          "output_type": "stream",
          "name": "stdout",
          "text": [
            "[CLS]        101\n",
            "who        2,040\n",
            "is         2,003\n",
            "on         2,006\n",
            "trial      3,979\n",
            "?          1,029\n",
            "[SEP]        102\n",
            "(          1,006\n",
            "cnn       13,229\n",
            ")          1,007\n",
            "-          1,011\n",
            "-          1,011\n",
            "ju        18,414\n",
            "##ror     29,165\n",
            "##s        2,015\n",
            "did        2,106\n",
            "not        2,025\n",
            "reach      3,362\n",
            "a          1,037\n",
            "verdict   14,392\n",
            "in         1,999\n",
            "their      2,037\n",
            "first      2,034\n",
            "day        2,154\n",
            "of         1,997\n",
            "del        3,972\n",
            "##ibe     20,755\n",
            "##rations  28,893\n",
            "monday     6,928\n",
            "in         1,999\n",
            "the        1,996\n",
            "trial      3,979\n",
            "of         1,997\n",
            "steven     7,112\n",
            "hayes     10,192\n",
            ",          1,010\n",
            "the        1,996\n",
            "man        2,158\n",
            "accused    5,496\n",
            "of         1,997\n",
            "killing    4,288\n",
            "three      2,093\n",
            "members    2,372\n",
            "of         1,997\n",
            "a          1,037\n",
            "connecticut   6,117\n",
            "family     2,155\n",
            "in         1,999\n",
            "a          1,037\n",
            "2007       2,289\n",
            "home       2,188\n",
            "invasion   5,274\n",
            ".          1,012\n",
            "they       2,027\n",
            "are        2,024\n",
            "expected   3,517\n",
            "to         2,000\n",
            "resume    13,746\n",
            "their      2,037\n",
            "work       2,147\n",
            "tuesday    9,857\n",
            "morning    2,851\n",
            ".          1,012\n",
            "hayes     10,192\n",
            ",          1,010\n",
            "47         4,700\n",
            ",          1,010\n",
            "who        2,040\n",
            "has        2,038\n",
            "pleaded   12,254\n",
            "not        2,025\n",
            "guilty     5,905\n",
            ",          1,010\n",
            "is         2,003\n",
            "on         2,006\n",
            "trial      3,979\n",
            "in         1,999\n",
            "new        2,047\n",
            "haven      4,033\n",
            ",          1,010\n",
            "connecticut   6,117\n",
            ",          1,010\n",
            "for        2,005\n",
            "the        1,996\n",
            "murders    9,916\n",
            "of         1,997\n",
            "jennifer   7,673\n",
            "hawke     24,882\n",
            "-          1,011\n",
            "petit     17,268\n",
            "and        1,998\n",
            "her        2,014\n",
            "two        2,048\n",
            "daughters   5,727\n",
            ".          1,012\n",
            "the        1,996\n",
            "killings  16,431\n",
            "took       2,165\n",
            "place      2,173\n",
            "in         1,999\n",
            "the        1,996\n",
            "new        2,047\n",
            "haven      4,033\n",
            "suburb     7,575\n",
            "of         1,997\n",
            "cheshire  13,789\n",
            "early      2,220\n",
            "july       2,251\n",
            "23         2,603\n",
            ",          1,010\n",
            "2007       2,289\n",
            ".          1,012\n",
            "the        1,996\n",
            "home       2,188\n",
            "of         1,997\n",
            "william    2,520\n",
            "petit     17,268\n",
            ",          1,010\n",
            "his        2,010\n",
            "wife       2,564\n",
            ",          1,010\n",
            "hawke     24,882\n",
            "-          1,011\n",
            "petit     17,268\n",
            ",          1,010\n",
            "and        1,998\n",
            "two        2,048\n",
            "daughters   5,727\n",
            "was        2,001\n",
            "invaded   10,836\n",
            "in         1,999\n",
            "the        1,996\n",
            "middle     2,690\n",
            "of         1,997\n",
            "the        1,996\n",
            "night      2,305\n",
            "by         2,011\n",
            "hayes     10,192\n",
            "and        1,998\n",
            "co         2,522\n",
            "-          1,011\n",
            "defendant  13,474\n",
            "joshua     9,122\n",
            "ko        12,849\n",
            "##mis     15,630\n",
            "##ar       2,906\n",
            "##je       6,460\n",
            "##vsky    15,904\n",
            ",          1,010\n",
            "prosecutors  19,608\n",
            "say        2,360\n",
            ".          1,012\n",
            "ko        12,849\n",
            "##mis     15,630\n",
            "##ar       2,906\n",
            "##je       6,460\n",
            "##vsky    15,904\n",
            "will       2,097\n",
            "be         2,022\n",
            "tried      2,699\n",
            "separately  10,329\n",
            ".          1,012\n",
            "judge      3,648\n",
            "jon        6,285\n",
            "blue       2,630\n",
            "gave       2,435\n",
            "instructions   8,128\n",
            "monday     6,928\n",
            "morning    2,851\n",
            "and        1,998\n",
            "told       2,409\n",
            "the        1,996\n",
            "jury       6,467\n",
            ":          1,024\n",
            "\"          1,000\n",
            "you        2,017\n",
            "are        2,024\n",
            "the        1,996\n",
            "sole       7,082\n",
            "judges     6,794\n",
            "of         1,997\n",
            "the        1,996\n",
            "facts      8,866\n",
            ".          1,012\n",
            "\"          1,000\n",
            "\"          1,000\n",
            "we         2,057\n",
            "'          1,005\n",
            "re         2,128\n",
            "in         1,999\n",
            "the        1,996\n",
            "home       2,188\n",
            "stretch    7,683\n",
            ",          1,010\n",
            "\"          1,000\n",
            "the        1,996\n",
            "judge      3,648\n",
            "said       2,056\n",
            "after      2,044\n",
            "going      2,183\n",
            "over       2,058\n",
            "all        2,035\n",
            "17         2,459\n",
            "counts     9,294\n",
            "with       2,007\n",
            "the        1,996\n",
            "jury       6,467\n",
            ".          1,012\n",
            "\"          1,000\n",
            "no         2,053\n",
            "one        2,028\n",
            "will       2,097\n",
            "hurry      9,241\n",
            "you        2,017\n",
            "to         2,000\n",
            "produce    3,965\n",
            "a          1,037\n",
            "verdict   14,392\n",
            ".          1,012\n",
            "\"          1,000\n",
            "their      2,037\n",
            "first      2,034\n",
            "duty       4,611\n",
            "will       2,097\n",
            "be         2,022\n",
            "to         2,000\n",
            "pick       4,060\n",
            "a          1,037\n",
            "foreman   18,031\n",
            ",          1,010\n",
            "and        1,998\n",
            "their      2,037\n",
            "verdict   14,392\n",
            "must       2,442\n",
            "be         2,022\n",
            "unanimous  13,604\n",
            ",          1,010\n",
            "the        1,996\n",
            "judge      3,648\n",
            "reminded   6,966\n",
            "the        1,996\n",
            "ju        18,414\n",
            "##ror     29,165\n",
            "##s        2,015\n",
            ".          1,012\n",
            "soon       2,574\n",
            "after      2,044\n",
            "starting   3,225\n",
            "their      2,037\n",
            "del        3,972\n",
            "##ibe     20,755\n",
            "##rations  28,893\n",
            ",          1,010\n",
            "the        1,996\n",
            "ju        18,414\n",
            "##ror     29,165\n",
            "##s        2,015\n",
            "asked      2,356\n",
            "for        2,005\n",
            "a          1,037\n",
            "transcript  24,051\n",
            "of         1,997\n",
            "an         2,019\n",
            "interview   4,357\n",
            "by         2,011\n",
            "a          1,037\n",
            "state      2,110\n",
            "police     2,610\n",
            "detective   6,317\n",
            ",          1,010\n",
            "who        2,040\n",
            "spoke      3,764\n",
            "to         2,000\n",
            "hayes     10,192\n",
            "soon       2,574\n",
            "after      2,044\n",
            "his        2,010\n",
            "arrest     6,545\n",
            ".          1,012\n",
            "the        1,996\n",
            "judge      3,648\n",
            "offered    3,253\n",
            "to         2,000\n",
            "have       2,031\n",
            "the        1,996\n",
            "testimony  10,896\n",
            "read       3,191\n",
            "back       2,067\n",
            "-          1,011\n",
            "-          1,011\n",
            "which      2,029\n",
            "the        1,996\n",
            "ju        18,414\n",
            "##ror     29,165\n",
            "##s        2,015\n",
            "declined   6,430\n",
            ".          1,012\n",
            "later      2,101\n",
            "in         1,999\n",
            "the        1,996\n",
            "day        2,154\n",
            ",          1,010\n",
            "they       2,027\n",
            "sent       2,741\n",
            "a          1,037\n",
            "note       3,602\n",
            "to         2,000\n",
            "the        1,996\n",
            "judge      3,648\n",
            "asking     4,851\n",
            "for        2,005\n",
            "a          1,037\n",
            "definition   6,210\n",
            "of         1,997\n",
            "what       2,054\n",
            "constitutes  17,367\n",
            "starting   3,225\n",
            "a          1,037\n",
            "fire       2,543\n",
            ".          1,012\n",
            "their      2,037\n",
            "del        3,972\n",
            "##ibe     20,755\n",
            "##rations  28,893\n",
            "monday     6,928\n",
            "ran        2,743\n",
            "just       2,074\n",
            "over       2,058\n",
            "2          1,016\n",
            "hours      2,847\n",
            ".          1,012\n",
            "[SEP]        102\n"
          ]
        }
      ]
    },
    {
      "cell_type": "code",
      "source": [
        "type(tokenizer.vocab)"
      ],
      "metadata": {
        "colab": {
          "base_uri": "https://localhost:8080/"
        },
        "id": "M_T1dHbvrdtF",
        "outputId": "0515c6ab-c9a1-4cd9-d916-d5f6d0d7e973"
      },
      "execution_count": null,
      "outputs": [
        {
          "output_type": "execute_result",
          "data": {
            "text/plain": [
              "collections.OrderedDict"
            ]
          },
          "metadata": {},
          "execution_count": 23
        }
      ]
    },
    {
      "cell_type": "code",
      "source": [
        "tokenizer.vocab[\"hard\"]"
      ],
      "metadata": {
        "colab": {
          "base_uri": "https://localhost:8080/"
        },
        "id": "EVF1eRg6sV88",
        "outputId": "933048e3-2ef0-4632-8faa-41ee340db8c7"
      },
      "execution_count": null,
      "outputs": [
        {
          "output_type": "execute_result",
          "data": {
            "text/plain": [
              "2524"
            ]
          },
          "metadata": {},
          "execution_count": 24
        }
      ]
    },
    {
      "cell_type": "code",
      "source": [
        "tokenizer.vocab[\"heart\"]"
      ],
      "metadata": {
        "colab": {
          "base_uri": "https://localhost:8080/"
        },
        "id": "0k4w55Q8s1eF",
        "outputId": "1554d31d-d789-4c25-e5be-4f4855e1d8ae"
      },
      "execution_count": null,
      "outputs": [
        {
          "output_type": "execute_result",
          "data": {
            "text/plain": [
              "2540"
            ]
          },
          "metadata": {},
          "execution_count": 25
        }
      ]
    },
    {
      "cell_type": "code",
      "source": [
        "tokenizer.vocab_size"
      ],
      "metadata": {
        "colab": {
          "base_uri": "https://localhost:8080/"
        },
        "id": "egFNLnZmrnfN",
        "outputId": "7560dab3-da72-4970-e7da-270aca4bed1a"
      },
      "execution_count": null,
      "outputs": [
        {
          "output_type": "execute_result",
          "data": {
            "text/plain": [
              "30522"
            ]
          },
          "metadata": {},
          "execution_count": 26
        }
      ]
    },
    {
      "cell_type": "code",
      "source": [
        "#first occurence of [SEP] token\n",
        "sep_idx = input_ids.index(tokenizer.sep_token_id)\n",
        "print(sep_idx)\n",
        "\n",
        "#number of tokens in segment A - question\n",
        "num_seg_a = sep_idx + 1\n",
        "print(\"Number of tokens in segment A: \", num_seg_a)\n",
        "\n",
        "#number of tokens in segment B - text\n",
        "num_seg_b = len(input_ids) - num_seg_a\n",
        "print(\"Number of tokens in segment B: \", num_seg_b)\n",
        "\n",
        "segment_ids = [0]*num_seg_a + [1]*num_seg_b\n",
        "print(segment_ids)\n",
        "\n",
        "assert len(segment_ids) == len(input_ids)"
      ],
      "metadata": {
        "colab": {
          "base_uri": "https://localhost:8080/"
        },
        "id": "GHZlG7bGruxN",
        "outputId": "fe673300-fd09-48a1-c4a3-c4e016750bf8"
      },
      "execution_count": null,
      "outputs": [
        {
          "output_type": "stream",
          "name": "stdout",
          "text": [
            "6\n",
            "Number of tokens in segment A:  7\n",
            "Number of tokens in segment B:  325\n",
            "[0, 0, 0, 0, 0, 0, 0, 1, 1, 1, 1, 1, 1, 1, 1, 1, 1, 1, 1, 1, 1, 1, 1, 1, 1, 1, 1, 1, 1, 1, 1, 1, 1, 1, 1, 1, 1, 1, 1, 1, 1, 1, 1, 1, 1, 1, 1, 1, 1, 1, 1, 1, 1, 1, 1, 1, 1, 1, 1, 1, 1, 1, 1, 1, 1, 1, 1, 1, 1, 1, 1, 1, 1, 1, 1, 1, 1, 1, 1, 1, 1, 1, 1, 1, 1, 1, 1, 1, 1, 1, 1, 1, 1, 1, 1, 1, 1, 1, 1, 1, 1, 1, 1, 1, 1, 1, 1, 1, 1, 1, 1, 1, 1, 1, 1, 1, 1, 1, 1, 1, 1, 1, 1, 1, 1, 1, 1, 1, 1, 1, 1, 1, 1, 1, 1, 1, 1, 1, 1, 1, 1, 1, 1, 1, 1, 1, 1, 1, 1, 1, 1, 1, 1, 1, 1, 1, 1, 1, 1, 1, 1, 1, 1, 1, 1, 1, 1, 1, 1, 1, 1, 1, 1, 1, 1, 1, 1, 1, 1, 1, 1, 1, 1, 1, 1, 1, 1, 1, 1, 1, 1, 1, 1, 1, 1, 1, 1, 1, 1, 1, 1, 1, 1, 1, 1, 1, 1, 1, 1, 1, 1, 1, 1, 1, 1, 1, 1, 1, 1, 1, 1, 1, 1, 1, 1, 1, 1, 1, 1, 1, 1, 1, 1, 1, 1, 1, 1, 1, 1, 1, 1, 1, 1, 1, 1, 1, 1, 1, 1, 1, 1, 1, 1, 1, 1, 1, 1, 1, 1, 1, 1, 1, 1, 1, 1, 1, 1, 1, 1, 1, 1, 1, 1, 1, 1, 1, 1, 1, 1, 1, 1, 1, 1, 1, 1, 1, 1, 1, 1, 1, 1, 1, 1, 1, 1, 1, 1, 1, 1, 1, 1, 1, 1, 1, 1, 1, 1, 1, 1, 1, 1, 1, 1, 1, 1, 1, 1, 1, 1, 1, 1, 1, 1, 1, 1, 1, 1, 1, 1, 1, 1, 1]\n"
          ]
        }
      ]
    },
    {
      "cell_type": "code",
      "source": [
        "#token input_ids to represent the input\n",
        "#token segment_ids to differentiate our segments - text and question \n",
        "output = model(torch.tensor([input_ids]), token_type_ids=torch.tensor([segment_ids]))\n",
        "print(output.start_logits, output.end_logits)"
      ],
      "metadata": {
        "colab": {
          "base_uri": "https://localhost:8080/"
        },
        "id": "JRgayRYVt_i8",
        "outputId": "ea1c1655-7df3-4a5f-bfe5-d1efbd232af1"
      },
      "execution_count": null,
      "outputs": [
        {
          "output_type": "stream",
          "name": "stdout",
          "text": [
            "tensor([[-0.6337, -7.6538, -8.0966, -7.3696, -8.2080, -9.3986, -0.6338, -7.2276,\n",
            "         -6.2174, -8.3487, -7.0166, -7.6264, -4.0566, -7.8382, -8.2678, -8.2021,\n",
            "         -7.8328, -8.3766, -8.4978, -7.6497, -8.8992, -7.9857, -8.0484, -8.2092,\n",
            "         -8.7986, -7.7965, -8.4711, -8.3028, -5.7352, -3.9318,  0.6044, -1.0398,\n",
            "         -3.5284,  6.5239,  2.3427, -4.3920, -0.1571, -2.3419, -3.7103, -6.5881,\n",
            "         -4.4991, -6.6955, -7.5071, -8.5647, -7.6819, -5.2913, -6.1063, -8.0983,\n",
            "         -7.3700, -5.2202, -4.8843, -5.2466, -6.4077, -4.9374, -7.7207, -6.3601,\n",
            "         -8.0449, -7.6679, -8.0442, -7.0191, -4.7270, -6.5922, -0.6334,  2.6317,\n",
            "         -4.6030, -1.7538, -5.7510, -3.2945, -4.5137, -3.7936, -4.2097, -6.2216,\n",
            "         -5.7386, -2.8289, -2.7690, -4.1700, -4.5979, -3.1054, -5.9296, -7.6847,\n",
            "         -4.5377, -6.7286, -2.5197, -1.8947, -0.8365, -6.5133, -0.8102, -4.1164,\n",
            "         -7.0016, -5.0227, -7.1750, -7.0004, -6.8321, -5.6639, -6.8173, -6.2754,\n",
            "         -4.7490, -7.8466, -7.9455, -8.1137, -7.0672, -4.7799, -6.2367, -6.4909,\n",
            "         -8.2547, -5.1511, -7.3632, -5.2646, -6.8716, -8.6856, -5.4176, -7.2237,\n",
            "         -6.1379, -6.2156, -8.3133, -4.7406, -6.3431, -8.9443, -7.3104, -7.3617,\n",
            "         -9.0106, -6.2871, -8.7047, -6.6146, -9.1201, -8.6953, -7.3804, -6.8538,\n",
            "         -8.3380, -7.2579, -8.5600, -8.5469, -7.9542, -8.6427, -6.9957, -7.9351,\n",
            "         -7.1089, -1.6129, -7.6401, -4.5228, -8.4458, -6.4140, -1.5016, -5.0247,\n",
            "         -7.4575, -8.0311, -7.8059, -6.6835, -8.6793, -5.6052, -7.7491, -5.6346,\n",
            "         -6.6824, -8.8439, -8.9766, -8.7068, -8.3471, -8.6200, -8.6917, -8.0740,\n",
            "         -7.9516, -7.2829, -6.8191, -8.6043, -9.0641, -8.7396, -8.8947, -7.7038,\n",
            "         -8.5453, -8.9671, -8.1983, -8.0867, -8.3342, -9.1041, -8.1090, -7.6382,\n",
            "         -8.7852, -8.4538, -8.2351, -8.3792, -8.9981, -8.7160, -8.0845, -9.0728,\n",
            "         -8.9824, -8.0269, -7.6402, -7.8284, -8.5768, -8.2826, -7.9079, -7.7000,\n",
            "         -8.7496, -9.3408, -8.8407, -8.4038, -8.5460, -9.0443, -8.6016, -7.9776,\n",
            "         -8.5084, -7.9653, -7.7861, -8.5095, -8.7381, -8.2653, -8.0805, -7.8901,\n",
            "         -7.6568, -7.4227, -8.7976, -8.8471, -8.6170, -9.0055, -8.8459, -8.4694,\n",
            "         -8.9664, -8.5187, -8.9860, -8.9792, -7.4472, -8.2496, -8.7296, -9.0288,\n",
            "         -9.1815, -8.6998, -8.2820, -8.6490, -8.8799, -9.5111, -8.8677, -7.6234,\n",
            "         -7.9478, -8.4485, -8.7775, -8.3450, -8.9912, -8.2766, -8.5855, -8.5819,\n",
            "         -8.5645, -8.3079, -9.0603, -9.2717, -8.7131, -8.0821, -8.9202, -8.4519,\n",
            "         -8.6534, -8.0723, -8.6478, -8.9230, -9.2724, -7.5109, -7.4679, -8.7312,\n",
            "         -9.1607, -8.4033, -8.7068, -8.3381, -7.9326, -9.0392, -8.3345, -7.9972,\n",
            "         -8.8689, -7.7906, -7.5296, -8.1049, -8.1525, -9.3387, -8.5922, -7.9087,\n",
            "         -7.9569, -1.7450, -8.5385, -8.8806, -6.8332, -7.2008, -8.0042, -8.0320,\n",
            "         -8.1929, -8.4210, -8.9177, -8.6772, -8.4901, -7.8183, -8.4919, -9.1668,\n",
            "         -7.2369, -7.8812, -8.1729, -7.1821, -7.3763, -8.6230, -8.8977, -7.9543,\n",
            "         -8.1183, -8.4824, -8.9422, -8.6783, -9.0746, -9.3977, -8.0493, -8.5954,\n",
            "         -8.8728, -8.5690, -8.9051, -8.4875, -8.6162, -8.4153, -8.6587, -8.1682,\n",
            "         -7.7175, -8.5777, -7.9696, -7.9492, -6.6230, -8.3496, -7.8195, -8.4047,\n",
            "         -7.8444, -7.8100, -8.6459, -8.7731, -7.6085, -8.3999, -8.4638, -8.3590,\n",
            "         -8.3091, -8.6637, -9.6247, -0.6338]], grad_fn=<CloneBackward0>) tensor([[ 0.3786, -7.4502, -7.1107, -7.1225, -6.4517, -7.4827,  0.3786, -7.3881,\n",
            "         -5.3341, -6.0020, -6.6246, -6.9624, -7.7051, -7.4193, -6.5252, -8.3945,\n",
            "         -7.6907, -8.3866, -8.3223, -6.1354, -8.5153, -8.0077, -7.9362, -7.2797,\n",
            "         -8.1973, -8.4062, -7.8661, -6.0537, -4.0817, -7.1563, -5.3603, -3.6401,\n",
            "         -4.2161, -0.8571,  6.7331,  2.7161, -3.6974, -2.3836, -4.3220, -5.7206,\n",
            "         -5.4614, -5.8438, -4.0806, -6.9127, -7.2487, -4.9923, -1.1285, -6.4862,\n",
            "         -7.2197, -5.1073, -6.0768, -0.2686, -0.7166, -6.7956, -6.9378, -7.6594,\n",
            "         -8.1797, -8.1990, -7.8681, -5.0865, -4.8285, -2.8203,  0.3787,  2.2630,\n",
            "         -2.3778,  0.0975, -0.3252, -6.0054, -6.7068, -6.5475, -6.3256, -0.8645,\n",
            "         -0.5521, -4.4172, -6.2457, -3.1536, -7.1771, -6.9756, -2.1164, -5.0810,\n",
            "         -0.7599, -1.4803, -6.4100, -6.5898, -3.3472, -5.2266, -3.5296, -3.6004,\n",
            "         -5.5052,  0.7010, -5.4388, -5.3753, -5.1655,  1.9122,  0.5982, -6.4396,\n",
            "         -3.6408, -7.0024, -5.5910, -6.7025, -7.7129, -7.4548, -2.8379, -4.7764,\n",
            "         -6.9031, -3.0260, -6.6842, -6.1750, -5.3334, -6.3010, -2.3268, -3.7258,\n",
            "         -8.0552, -5.7972, -7.8582, -6.6113, -3.0586, -6.1138, -7.1923, -5.3536,\n",
            "         -6.4137, -7.1513, -7.8201, -3.6976, -5.2318, -8.1150, -7.7193, -3.9881,\n",
            "         -7.7850, -6.5124, -8.2577, -8.5039, -7.9867, -8.1951, -7.2717, -5.9747,\n",
            "         -8.5947, -0.6777, -6.8015, -7.4436, -8.3219, -5.9910, -5.0640, -6.3312,\n",
            "         -6.4716, -6.5970, -6.6141, -0.8947, -3.9053, -5.8159, -5.3375, -5.2990,\n",
            "         -8.0219, -7.4711, -7.7445, -7.7001, -4.7254, -8.3203, -8.3866, -8.3634,\n",
            "         -5.0835, -4.3555, -7.0671, -7.4113, -6.5294, -8.0271, -7.3277, -6.7030,\n",
            "         -6.6386, -8.1689, -8.8365, -8.6572, -7.2764, -7.6694, -8.4597, -8.7398,\n",
            "         -8.7649, -8.9198, -8.7178, -7.6718, -8.7843, -8.9008, -6.5197, -6.1569,\n",
            "         -7.0895, -7.9265, -8.4140, -6.9510, -8.6131, -8.9220, -8.6431, -7.8941,\n",
            "         -6.2451, -6.2945, -7.6333, -8.4835, -7.9077, -7.9549, -8.6541, -8.9042,\n",
            "         -8.6036, -9.0017, -7.4814, -6.9035, -8.5456, -8.7295, -6.5764, -6.1070,\n",
            "         -8.0880, -8.6711, -8.2942, -8.4845, -8.5172, -8.0764, -8.7162, -8.7670,\n",
            "         -8.7226, -6.7409, -5.9950, -7.3865, -8.6355, -8.5423, -8.5354, -8.5645,\n",
            "         -8.3031, -8.7201, -8.5602, -8.5314, -6.9697, -6.5866, -8.4342, -8.6773,\n",
            "         -8.1777, -8.7493, -8.7496, -6.8515, -6.2187, -8.3070, -7.8443, -8.7007,\n",
            "         -8.6305, -8.5632, -8.2709, -6.6928, -6.3130, -8.6537, -8.4387, -8.7247,\n",
            "         -8.7283, -8.6115, -8.3795, -7.9109, -7.5642, -8.7065, -8.5645, -8.2813,\n",
            "         -7.7463, -8.6610, -8.7448, -8.8413, -8.0642, -8.7698, -8.7801, -7.3981,\n",
            "         -8.7302, -8.8514, -8.0567, -7.9313, -6.7929, -6.2763, -8.3262, -8.2520,\n",
            "         -8.4096, -0.1315, -7.4981, -8.2917, -6.3097, -5.2615, -5.5298, -8.5419,\n",
            "         -7.9639, -8.5542, -8.4762, -8.7888, -8.7522, -7.7494, -8.3367, -7.0567,\n",
            "         -6.2865, -6.5674, -8.4592, -8.5785, -8.4107, -8.1511, -7.8079, -7.0831,\n",
            "         -6.3169, -8.2571, -8.2261, -8.5757, -7.8732, -7.3295, -8.3348, -8.6413,\n",
            "         -8.5933, -8.2318, -8.5299, -8.6115, -7.7715, -8.6975, -8.7851, -8.8691,\n",
            "         -8.0313, -8.5325, -8.5501, -8.6627, -8.4689, -8.7395, -5.7238, -6.0359,\n",
            "         -8.4823, -8.6471, -8.3355, -7.8256, -6.8924, -8.6321, -8.7622, -8.7891,\n",
            "         -8.4499, -7.4630, -7.6747,  0.3786]], grad_fn=<CloneBackward0>)\n"
          ]
        }
      ]
    },
    {
      "cell_type": "code",
      "source": [
        "output.start_logits.size()"
      ],
      "metadata": {
        "colab": {
          "base_uri": "https://localhost:8080/"
        },
        "id": "2AeQF0jsvpH0",
        "outputId": "b7d3ced6-2e5b-450b-93b5-7ca102ef6c67"
      },
      "execution_count": null,
      "outputs": [
        {
          "output_type": "execute_result",
          "data": {
            "text/plain": [
              "torch.Size([1, 332])"
            ]
          },
          "metadata": {},
          "execution_count": 29
        }
      ]
    },
    {
      "cell_type": "markdown",
      "source": [
        "Looking at the most probable start and end words and providing answers only if the end token is after the start token."
      ],
      "metadata": {
        "id": "t34xEW0mxj4O"
      }
    },
    {
      "cell_type": "code",
      "source": [
        "#tokens with highest start and end scores\n",
        "answer_start = torch.argmax(output.start_logits)\n",
        "answer_end = torch.argmax(output.end_logits)\n",
        "print(answer_start, answer_end)"
      ],
      "metadata": {
        "colab": {
          "base_uri": "https://localhost:8080/"
        },
        "id": "cyukcjTlwpzA",
        "outputId": "eb7ce01c-e8e6-4d01-f2a1-964b22bd555f"
      },
      "execution_count": null,
      "outputs": [
        {
          "output_type": "stream",
          "name": "stdout",
          "text": [
            "tensor(33) tensor(34)\n"
          ]
        }
      ]
    },
    {
      "cell_type": "code",
      "source": [
        "if answer_end >= answer_start:\n",
        "    answer = \" \".join(tokens[answer_start:answer_end+1])\n",
        "else:\n",
        "    print(\"I am unable to find the answer to this question. Can you please ask another question?\")\n",
        "    \n",
        "print(\"Text:\\n{}\".format(text.capitalize()))\n",
        "print(\"\\nQuestion:\\n{}\".format(question.capitalize()))\n",
        "print(\"\\nAnswer:\\n{}.\".format(answer.capitalize()))"
      ],
      "metadata": {
        "colab": {
          "base_uri": "https://localhost:8080/"
        },
        "id": "yaVuNPPxxnlK",
        "outputId": "e5070ef6-3574-4f1b-b34b-62d7d86aabe5"
      },
      "execution_count": null,
      "outputs": [
        {
          "output_type": "stream",
          "name": "stdout",
          "text": [
            "Text:\n",
            "(cnn) -- jurors did not reach a verdict in their first day of deliberations monday in the trial of steven hayes, the man accused of killing three members of a connecticut family in a 2007 home invasion. \n",
            "\n",
            "they are expected to resume their work tuesday morning. \n",
            "\n",
            "hayes, 47, who has pleaded not guilty, is on trial in new haven, connecticut, for the murders of jennifer hawke-petit and her two daughters. \n",
            "\n",
            "the killings took place in the new haven suburb of cheshire early july 23, 2007. the home of william petit, his wife, hawke-petit, and two daughters was invaded in the middle of the night by hayes and co-defendant joshua komisarjevsky, prosecutors say. \n",
            "\n",
            "komisarjevsky will be tried separately. \n",
            "\n",
            "judge jon blue gave instructions monday morning and told the jury: \"you are the sole judges of the facts.\" \n",
            "\n",
            "\"we're in the home stretch,\" the judge said after going over all 17 counts with the jury. \"no one will hurry you to produce a verdict.\" \n",
            "\n",
            "their first duty will be to pick a foreman, and their verdict must be unanimous, the judge reminded the jurors. \n",
            "\n",
            "soon after starting their deliberations, the jurors asked for a transcript of an interview by a state police detective, who spoke to hayes soon after his arrest. the judge offered to have the testimony read back -- which the jurors declined. \n",
            "\n",
            "later in the day, they sent a note to the judge asking for a definition of what constitutes starting a fire.their deliberations monday ran just over 2 hours. \n",
            "\n",
            "Question:\n",
            "Who is on trial?\n",
            "\n",
            "Answer:\n",
            "Steven hayes.\n"
          ]
        }
      ]
    },
    {
      "cell_type": "markdown",
      "source": [
        "##Visualize of the tokens"
      ],
      "metadata": {
        "id": "EQkFebumyHYN"
      }
    },
    {
      "cell_type": "code",
      "source": [
        "tokens"
      ],
      "metadata": {
        "colab": {
          "base_uri": "https://localhost:8080/"
        },
        "id": "XmyiZUjqy5YJ",
        "outputId": "1398d59e-ee29-4770-af6a-e017e8b9514f"
      },
      "execution_count": null,
      "outputs": [
        {
          "output_type": "execute_result",
          "data": {
            "text/plain": [
              "['[CLS]',\n",
              " 'who',\n",
              " 'is',\n",
              " 'on',\n",
              " 'trial',\n",
              " '?',\n",
              " '[SEP]',\n",
              " '(',\n",
              " 'cnn',\n",
              " ')',\n",
              " '-',\n",
              " '-',\n",
              " 'ju',\n",
              " '##ror',\n",
              " '##s',\n",
              " 'did',\n",
              " 'not',\n",
              " 'reach',\n",
              " 'a',\n",
              " 'verdict',\n",
              " 'in',\n",
              " 'their',\n",
              " 'first',\n",
              " 'day',\n",
              " 'of',\n",
              " 'del',\n",
              " '##ibe',\n",
              " '##rations',\n",
              " 'monday',\n",
              " 'in',\n",
              " 'the',\n",
              " 'trial',\n",
              " 'of',\n",
              " 'steven',\n",
              " 'hayes',\n",
              " ',',\n",
              " 'the',\n",
              " 'man',\n",
              " 'accused',\n",
              " 'of',\n",
              " 'killing',\n",
              " 'three',\n",
              " 'members',\n",
              " 'of',\n",
              " 'a',\n",
              " 'connecticut',\n",
              " 'family',\n",
              " 'in',\n",
              " 'a',\n",
              " '2007',\n",
              " 'home',\n",
              " 'invasion',\n",
              " '.',\n",
              " 'they',\n",
              " 'are',\n",
              " 'expected',\n",
              " 'to',\n",
              " 'resume',\n",
              " 'their',\n",
              " 'work',\n",
              " 'tuesday',\n",
              " 'morning',\n",
              " '.',\n",
              " 'hayes',\n",
              " ',',\n",
              " '47',\n",
              " ',',\n",
              " 'who',\n",
              " 'has',\n",
              " 'pleaded',\n",
              " 'not',\n",
              " 'guilty',\n",
              " ',',\n",
              " 'is',\n",
              " 'on',\n",
              " 'trial',\n",
              " 'in',\n",
              " 'new',\n",
              " 'haven',\n",
              " ',',\n",
              " 'connecticut',\n",
              " ',',\n",
              " 'for',\n",
              " 'the',\n",
              " 'murders',\n",
              " 'of',\n",
              " 'jennifer',\n",
              " 'hawke',\n",
              " '-',\n",
              " 'petit',\n",
              " 'and',\n",
              " 'her',\n",
              " 'two',\n",
              " 'daughters',\n",
              " '.',\n",
              " 'the',\n",
              " 'killings',\n",
              " 'took',\n",
              " 'place',\n",
              " 'in',\n",
              " 'the',\n",
              " 'new',\n",
              " 'haven',\n",
              " 'suburb',\n",
              " 'of',\n",
              " 'cheshire',\n",
              " 'early',\n",
              " 'july',\n",
              " '23',\n",
              " ',',\n",
              " '2007',\n",
              " '.',\n",
              " 'the',\n",
              " 'home',\n",
              " 'of',\n",
              " 'william',\n",
              " 'petit',\n",
              " ',',\n",
              " 'his',\n",
              " 'wife',\n",
              " ',',\n",
              " 'hawke',\n",
              " '-',\n",
              " 'petit',\n",
              " ',',\n",
              " 'and',\n",
              " 'two',\n",
              " 'daughters',\n",
              " 'was',\n",
              " 'invaded',\n",
              " 'in',\n",
              " 'the',\n",
              " 'middle',\n",
              " 'of',\n",
              " 'the',\n",
              " 'night',\n",
              " 'by',\n",
              " 'hayes',\n",
              " 'and',\n",
              " 'co',\n",
              " '-',\n",
              " 'defendant',\n",
              " 'joshua',\n",
              " 'ko',\n",
              " '##mis',\n",
              " '##ar',\n",
              " '##je',\n",
              " '##vsky',\n",
              " ',',\n",
              " 'prosecutors',\n",
              " 'say',\n",
              " '.',\n",
              " 'ko',\n",
              " '##mis',\n",
              " '##ar',\n",
              " '##je',\n",
              " '##vsky',\n",
              " 'will',\n",
              " 'be',\n",
              " 'tried',\n",
              " 'separately',\n",
              " '.',\n",
              " 'judge',\n",
              " 'jon',\n",
              " 'blue',\n",
              " 'gave',\n",
              " 'instructions',\n",
              " 'monday',\n",
              " 'morning',\n",
              " 'and',\n",
              " 'told',\n",
              " 'the',\n",
              " 'jury',\n",
              " ':',\n",
              " '\"',\n",
              " 'you',\n",
              " 'are',\n",
              " 'the',\n",
              " 'sole',\n",
              " 'judges',\n",
              " 'of',\n",
              " 'the',\n",
              " 'facts',\n",
              " '.',\n",
              " '\"',\n",
              " '\"',\n",
              " 'we',\n",
              " \"'\",\n",
              " 're',\n",
              " 'in',\n",
              " 'the',\n",
              " 'home',\n",
              " 'stretch',\n",
              " ',',\n",
              " '\"',\n",
              " 'the',\n",
              " 'judge',\n",
              " 'said',\n",
              " 'after',\n",
              " 'going',\n",
              " 'over',\n",
              " 'all',\n",
              " '17',\n",
              " 'counts',\n",
              " 'with',\n",
              " 'the',\n",
              " 'jury',\n",
              " '.',\n",
              " '\"',\n",
              " 'no',\n",
              " 'one',\n",
              " 'will',\n",
              " 'hurry',\n",
              " 'you',\n",
              " 'to',\n",
              " 'produce',\n",
              " 'a',\n",
              " 'verdict',\n",
              " '.',\n",
              " '\"',\n",
              " 'their',\n",
              " 'first',\n",
              " 'duty',\n",
              " 'will',\n",
              " 'be',\n",
              " 'to',\n",
              " 'pick',\n",
              " 'a',\n",
              " 'foreman',\n",
              " ',',\n",
              " 'and',\n",
              " 'their',\n",
              " 'verdict',\n",
              " 'must',\n",
              " 'be',\n",
              " 'unanimous',\n",
              " ',',\n",
              " 'the',\n",
              " 'judge',\n",
              " 'reminded',\n",
              " 'the',\n",
              " 'ju',\n",
              " '##ror',\n",
              " '##s',\n",
              " '.',\n",
              " 'soon',\n",
              " 'after',\n",
              " 'starting',\n",
              " 'their',\n",
              " 'del',\n",
              " '##ibe',\n",
              " '##rations',\n",
              " ',',\n",
              " 'the',\n",
              " 'ju',\n",
              " '##ror',\n",
              " '##s',\n",
              " 'asked',\n",
              " 'for',\n",
              " 'a',\n",
              " 'transcript',\n",
              " 'of',\n",
              " 'an',\n",
              " 'interview',\n",
              " 'by',\n",
              " 'a',\n",
              " 'state',\n",
              " 'police',\n",
              " 'detective',\n",
              " ',',\n",
              " 'who',\n",
              " 'spoke',\n",
              " 'to',\n",
              " 'hayes',\n",
              " 'soon',\n",
              " 'after',\n",
              " 'his',\n",
              " 'arrest',\n",
              " '.',\n",
              " 'the',\n",
              " 'judge',\n",
              " 'offered',\n",
              " 'to',\n",
              " 'have',\n",
              " 'the',\n",
              " 'testimony',\n",
              " 'read',\n",
              " 'back',\n",
              " '-',\n",
              " '-',\n",
              " 'which',\n",
              " 'the',\n",
              " 'ju',\n",
              " '##ror',\n",
              " '##s',\n",
              " 'declined',\n",
              " '.',\n",
              " 'later',\n",
              " 'in',\n",
              " 'the',\n",
              " 'day',\n",
              " ',',\n",
              " 'they',\n",
              " 'sent',\n",
              " 'a',\n",
              " 'note',\n",
              " 'to',\n",
              " 'the',\n",
              " 'judge',\n",
              " 'asking',\n",
              " 'for',\n",
              " 'a',\n",
              " 'definition',\n",
              " 'of',\n",
              " 'what',\n",
              " 'constitutes',\n",
              " 'starting',\n",
              " 'a',\n",
              " 'fire',\n",
              " '.',\n",
              " 'their',\n",
              " 'del',\n",
              " '##ibe',\n",
              " '##rations',\n",
              " 'monday',\n",
              " 'ran',\n",
              " 'just',\n",
              " 'over',\n",
              " '2',\n",
              " 'hours',\n",
              " '.',\n",
              " '[SEP]']"
            ]
          },
          "metadata": {},
          "execution_count": 32
        }
      ]
    },
    {
      "cell_type": "code",
      "source": [
        "start_scores = output.start_logits.detach().numpy().flatten()\n",
        "end_scores = output.end_logits.detach().numpy().flatten()\n",
        "\n",
        "token_labels = []\n",
        "for i, token in enumerate(tokens):\n",
        "    token_labels.append(\"{}-{}\".format(token,i))"
      ],
      "metadata": {
        "id": "Y6dsfjg4xwbs"
      },
      "execution_count": null,
      "outputs": []
    },
    {
      "cell_type": "code",
      "source": [
        "print(len(token_labels))"
      ],
      "metadata": {
        "colab": {
          "base_uri": "https://localhost:8080/"
        },
        "id": "ArZGlqThy4FR",
        "outputId": "6d6518b1-4873-4e52-fd81-4c12783f108b"
      },
      "execution_count": null,
      "outputs": [
        {
          "output_type": "stream",
          "name": "stdout",
          "text": [
            "332\n"
          ]
        }
      ]
    },
    {
      "cell_type": "code",
      "source": [
        "#first 100 tokens\n",
        "plt.rcParams[\"figure.figsize\"] = (20,10)\n",
        "ax = sns.barplot(x=token_labels[:80], y=start_scores[:80], ci=None)\n",
        "ax.set_xticklabels(ax.get_xticklabels(), rotation=90, ha=\"center\")\n",
        "ax.grid(True)\n",
        "plt.title(\"Start word scores\")\n",
        "plt.show()"
      ],
      "metadata": {
        "colab": {
          "base_uri": "https://localhost:8080/",
          "height": 672
        },
        "id": "H0GVe7VFzDs5",
        "outputId": "e4994348-bf00-49fb-b258-d631a8dbe315"
      },
      "execution_count": null,
      "outputs": [
        {
          "output_type": "display_data",
          "data": {
            "image/png": "[encoded data removed]",
            "text/plain": [
              "<Figure size 1440x720 with 1 Axes>"
            ]
          },
          "metadata": {
            "needs_background": "light"
          }
        }
      ]
    },
    {
      "cell_type": "code",
      "source": [
        "#last 100 tokens\n",
        "plt.rcParams[\"figure.figsize\"] = (20,10)\n",
        "ax = sns.barplot(x=token_labels[-80:], y=start_scores[-80:], ci=None)\n",
        "ax.set_xticklabels(ax.get_xticklabels(), rotation=90, ha=\"center\")\n",
        "ax.grid(True)\n",
        "plt.title(\"Start word scores\")\n",
        "plt.show()\n"
      ],
      "metadata": {
        "colab": {
          "base_uri": "https://localhost:8080/",
          "height": 675
        },
        "id": "t4ETmDUrzTId",
        "outputId": "934d8fd5-afa8-4fc0-d91a-13458014545b"
      },
      "execution_count": null,
      "outputs": [
        {
          "output_type": "display_data",
          "data": {
            "image/png": "[encoded data removed]",
            "text/plain": [
              "<Figure size 1440x720 with 1 Axes>"
            ]
          },
          "metadata": {
            "needs_background": "light"
          }
        }
      ]
    },
    {
      "cell_type": "code",
      "source": [
        "#first 100 tokens\n",
        "plt.rcParams[\"figure.figsize\"] = (20,10)\n",
        "ax = sns.barplot(x=token_labels[:80], y=end_scores[:80], ci=None)\n",
        "ax.set_xticklabels(ax.get_xticklabels(), rotation=90, ha=\"center\")\n",
        "ax.grid(True)\n",
        "plt.title(\"End word scores\")\n",
        "plt.show()"
      ],
      "metadata": {
        "colab": {
          "base_uri": "https://localhost:8080/",
          "height": 672
        },
        "id": "2aRDVw1xz9Ty",
        "outputId": "ca0cd77a-594f-41f2-c2d9-01d367c97875"
      },
      "execution_count": null,
      "outputs": [
        {
          "output_type": "display_data",
          "data": {
            "image/png": "[encoded data removed]",
            "text/plain": [
              "<Figure size 1440x720 with 1 Axes>"
            ]
          },
          "metadata": {
            "needs_background": "light"
          }
        }
      ]
    },
    {
      "cell_type": "code",
      "source": [
        "#last 100 tokens\n",
        "plt.rcParams[\"figure.figsize\"] = (20,10)\n",
        "ax = sns.barplot(x=token_labels[-80:], y=end_scores[-80:], ci=None)\n",
        "ax.set_xticklabels(ax.get_xticklabels(), rotation=90, ha=\"center\")\n",
        "ax.grid(True)\n",
        "plt.title(\"End word scores\")\n",
        "plt.show()\n"
      ],
      "metadata": {
        "colab": {
          "base_uri": "https://localhost:8080/",
          "height": 675
        },
        "id": "9Vm7E00o0LS4",
        "outputId": "25627ae9-8b3b-4e70-f4e6-51ed6c397cad"
      },
      "execution_count": null,
      "outputs": [
        {
          "output_type": "display_data",
          "data": {
            "image/png": "[encoded data removed]",
            "text/plain": [
              "<Figure size 1440x720 with 1 Axes>"
            ]
          },
          "metadata": {
            "needs_background": "light"
          }
        }
      ]
    },
    {
      "cell_type": "markdown",
      "source": [
        "#Code to join broken words"
      ],
      "metadata": {
        "id": "ebiO7AzW0UGw"
      }
    },
    {
      "cell_type": "code",
      "source": [
        "answer = tokens[answer_start]\n",
        "\n",
        "for i in range(answer_start+1, answer_end+1):\n",
        "    if tokens[i][0:2] == \"##\":\n",
        "        answer += tokens[i][2:]\n",
        "    else:\n",
        "        answer += \" \" + tokens[i]"
      ],
      "metadata": {
        "id": "X-UrXUaw0PEj"
      },
      "execution_count": null,
      "outputs": []
    },
    {
      "cell_type": "markdown",
      "source": [
        "#Function"
      ],
      "metadata": {
        "id": "WWfqQHfpQ8Ze"
      }
    },
    {
      "cell_type": "code",
      "source": [
        "tokenizer.mask_token_id"
      ],
      "metadata": {
        "colab": {
          "base_uri": "https://localhost:8080/"
        },
        "id": "Teha0Gi3Rj4d",
        "outputId": "8b973481-668b-453c-82bd-b16d891c3e4a"
      },
      "execution_count": null,
      "outputs": [
        {
          "output_type": "execute_result",
          "data": {
            "text/plain": [
              "103"
            ]
          },
          "metadata": {},
          "execution_count": 40
        }
      ]
    },
    {
      "cell_type": "code",
      "source": [
        "tokenizer.sep_token_id"
      ],
      "metadata": {
        "colab": {
          "base_uri": "https://localhost:8080/"
        },
        "id": "JuZHBrT6Ro9W",
        "outputId": "88adbb89-9e71-41fe-b65c-03727aa085dc"
      },
      "execution_count": null,
      "outputs": [
        {
          "output_type": "execute_result",
          "data": {
            "text/plain": [
              "102"
            ]
          },
          "metadata": {},
          "execution_count": 41
        }
      ]
    },
    {
      "cell_type": "code",
      "source": [
        "tokenizer.cls_token_id"
      ],
      "metadata": {
        "colab": {
          "base_uri": "https://localhost:8080/"
        },
        "id": "KVpBQ3XfRr0V",
        "outputId": "7db41b48-cf8a-4a17-a5d5-e6302e13fceb"
      },
      "execution_count": null,
      "outputs": [
        {
          "output_type": "execute_result",
          "data": {
            "text/plain": [
              "101"
            ]
          },
          "metadata": {},
          "execution_count": 42
        }
      ]
    },
    {
      "cell_type": "code",
      "source": [
        "tokenizer.max_len_sentences_pair"
      ],
      "metadata": {
        "colab": {
          "base_uri": "https://localhost:8080/"
        },
        "id": "8CwSs0TERuxn",
        "outputId": "cd3674d3-f792-42bc-b166-6b93f2efc130"
      },
      "execution_count": null,
      "outputs": [
        {
          "output_type": "execute_result",
          "data": {
            "text/plain": [
              "509"
            ]
          },
          "metadata": {},
          "execution_count": 43
        }
      ]
    },
    {
      "cell_type": "code",
      "source": [
        "tokenizer.max_len_single_sentence"
      ],
      "metadata": {
        "colab": {
          "base_uri": "https://localhost:8080/"
        },
        "id": "ZO86mW4fRyq-",
        "outputId": "dab0d04f-3b47-4f89-908b-aeb53d9596bc"
      },
      "execution_count": null,
      "outputs": [
        {
          "output_type": "execute_result",
          "data": {
            "text/plain": [
              "510"
            ]
          },
          "metadata": {},
          "execution_count": 44
        }
      ]
    },
    {
      "cell_type": "code",
      "source": [
        "input_ids.index(2000)"
      ],
      "metadata": {
        "colab": {
          "base_uri": "https://localhost:8080/"
        },
        "id": "mNs8KfPbR4xW",
        "outputId": "0ce6f791-be47-4cd9-d41a-a2b4904a35ed"
      },
      "execution_count": null,
      "outputs": [
        {
          "output_type": "execute_result",
          "data": {
            "text/plain": [
              "56"
            ]
          },
          "metadata": {},
          "execution_count": 46
        }
      ]
    },
    {
      "cell_type": "code",
      "source": [
        "input_ids.index(102)"
      ],
      "metadata": {
        "colab": {
          "base_uri": "https://localhost:8080/"
        },
        "id": "QreG4bQ0SSTu",
        "outputId": "5a8dfa3e-c565-4f30-a7c3-8b2955e886a3"
      },
      "execution_count": null,
      "outputs": [
        {
          "output_type": "execute_result",
          "data": {
            "text/plain": [
              "6"
            ]
          },
          "metadata": {},
          "execution_count": 47
        }
      ]
    },
    {
      "cell_type": "code",
      "source": [
        "def question_answer(question, text):\n",
        "\n",
        "  #tokenize question and text in ids as a pair\n",
        "  input_ids = tokenizer.encode(question, text)\n",
        "  #string version of tokenized ids\n",
        "  tokens = tokenizer.convert_ids_to_tokens(input_ids)\n",
        "  #segment IDs\n",
        "  #first occurence of [SEP] token\n",
        "  sep_idx = input_ids.index(tokenizer.sep_token_id)\n",
        "  #number of tokens in segment A - question\n",
        "  num_seg_a = sep_idx + 1\n",
        "  #number of tokens in segment B - text\n",
        "  num_seg_b = len(input_ids) - num_seg_a\n",
        "  #list of 0s and 1s\n",
        "  segment_ids = [0]*num_seg_a + [1]*num_seg_b\n",
        "\n",
        "  assert len(segment_ids) == len(input_ids)\n",
        "\n",
        "  #model output using input_ids and segment_ids\n",
        "  output = model(torch.tensor([input_ids]), token_type_ids = torch.tensor([segment_ids]))\n",
        "\n",
        "   #reconstructing the answer\n",
        "  answer_start = torch.argmax(output.start_logits)\n",
        "  answer_end = torch.argmax(output.end_logits)\n",
        "\n",
        "  if answer_end >= answer_start:\n",
        "    answer = (tokens[answer_start])\n",
        "    for i in range(answer_start+1, answer_end+1):\n",
        "      if tokens[i][0:2] == \"##\":\n",
        "        answer += tokens[i][2:]\n",
        "      else:\n",
        "        answer += \" \" + tokens[i]\n",
        "  \n",
        "  if answer.startswith(\"[CLS]\"):\n",
        "    answer = \"Unable to find the answer to your question.\"\n",
        "  \n",
        "  print(\"\\nAnswer:\\n{}\".format(answer.capitalize()))"
      ],
      "metadata": {
        "id": "fXAiAcrCQ3T7"
      },
      "execution_count": null,
      "outputs": []
    },
    {
      "cell_type": "code",
      "source": [
        "text = \"\"\"New York (CNN) -- More than 80 Michael Jackson collectibles -- including the late pop star's famous rhinestone-studded glove from a 1983 performance -- were auctioned off Saturday, reaping a total $2 million. Profits from the auction at the Hard Rock Cafe in New York's Times Square crushed pre-sale expectations of only $120,000 in sales. The highly prized memorabilia, which included items spanning the many stages of Jackson's career, came from more than 30 fans, associates and family members, who contacted Julien's Auctions to sell their gifts and mementos of the singer. Jackson's flashy glove was the big-ticket item of the night, fetching $420,000 from a buyer in Hong Kong, China. Jackson wore the glove at a 1983 performance during \\\"Motown 25,\\\" an NBC special where he debuted his revolutionary moonwalk. Fellow Motown star Walter \\\"Clyde\\\" Orange of the Commodores, who also performed in the special 26 years ago, said he asked for Jackson's autograph at the time, but Jackson gave him the glove instead. \"The legacy that [Jackson] left behind is bigger than life for me,\\\" Orange said. \\\"I hope that through that glove people can see what he was trying to say in his music and what he said in his music.\\\" Orange said he plans to give a portion of the proceeds to charity. Hoffman Ma, who bought the glove on behalf of Ponte 16 Resort in Macau, paid a 25 percent buyer's premium, which was tacked onto all final sales over $50,000. Winners of items less than $50,000 paid a 20 percent premium.\"\"\"\n",
        "question = \"Where was the Auction held?\""
      ],
      "metadata": {
        "id": "CAMtALN0UaYJ"
      },
      "execution_count": null,
      "outputs": []
    },
    {
      "cell_type": "code",
      "source": [
        "question_answer(question, text)"
      ],
      "metadata": {
        "colab": {
          "base_uri": "https://localhost:8080/"
        },
        "id": "-JnHdQXZUefh",
        "outputId": "67ca4115-7eed-45b3-c083-3ddd1bc5f054"
      },
      "execution_count": null,
      "outputs": [
        {
          "output_type": "stream",
          "name": "stdout",
          "text": [
            "\n",
            "Answer:\n",
            "Hard rock cafe in new york ' s times square\n"
          ]
        }
      ]
    },
    {
      "cell_type": "code",
      "source": [
        "print(\"Original answer:\\n\", df.loc[df[\"questions\"] == question][\"answers\"].values[0])"
      ],
      "metadata": {
        "colab": {
          "base_uri": "https://localhost:8080/"
        },
        "id": "-KFeLZlwUh1i",
        "outputId": "53239048-aa9f-4f03-85b0-6bee09e35f02"
      },
      "execution_count": null,
      "outputs": [
        {
          "output_type": "stream",
          "name": "stdout",
          "text": [
            "Original answer:\n",
            " Hard Rock Cafe\n"
          ]
        }
      ]
    },
    {
      "cell_type": "markdown",
      "source": [
        "#Playing with the chatbot"
      ],
      "metadata": {
        "id": "snUu8q_SVGIQ"
      }
    },
    {
      "cell_type": "code",
      "source": [
        "text = input(\"Please enter your text: \\n\")\n",
        "question = input(\"\\nPlease enter your question: \\n\")\n",
        "\n",
        "while True:\n",
        "  question_answer(question, text)\n",
        "\n",
        "  flag = True\n",
        "  flag_N = False\n",
        "\n",
        "  while flag:\n",
        "    response = input(\"\\nDo you want to ask another question based on this text (Y/N)? \")\n",
        "    if response[0] == \"Y\" or response[0] == \"y\":\n",
        "      question = input(\"\\nPlease enter your question: \\n\")\n",
        "      flag = False \n",
        "    elif response[0] == \"N\" or response[0] == \"n\":\n",
        "      print(\"\\nBye!\")\n",
        "      flag = False\n",
        "      flag_N = True\n",
        "  if flag_N == True:\n",
        "    break"
      ],
      "metadata": {
        "colab": {
          "base_uri": "https://localhost:8080/"
        },
        "id": "4dhtvQjzU8l2",
        "outputId": "e6ec6b10-dc9c-4454-ab10-a967c24cfe21"
      },
      "execution_count": null,
      "outputs": [
        {
          "output_type": "stream",
          "name": "stdout",
          "text": [
            "Please enter your text: \n",
            "The Vatican Apostolic Library (), more commonly called the Vatican Library or simply the Vat, is the library of the Holy See, located in Vatican City. Formally established in 1475, although it is much older, it is one of the oldest libraries in the world and contains one of the most significant collections of historical texts. It has 75,000 codices from throughout history, as well as 1.1 million printed books, which include some 8,500 incunabula.   The Vatican Library is a research library for history, law, philosophy, science and theology. The Vatican Library is open to anyone who can document their qualifications and research needs. Photocopies for private study of pages from books published between 1801 and 1990 can be requested in person or by mail.   In March 2014, the Vatican Library began an initial four-year project of digitising its collection of manuscripts, to be made available online.   The Vatican Secret Archives were separated from the library at the beginning of the 17th century; they contain another 150,000 items.   Scholars have traditionally divided the history of the library into five periods, Pre-Lateran, Lateran, Avignon, Pre-Vatican and Vatican.   The Pre-Lateran period, comprising the initial days of the library, dated from the earliest days of the Church. Only a handful of volumes survive from this period, though some are very significant.\n",
            "\n",
            "Please enter your question: \n",
            "When was the Vat formally opened?\n",
            "\n",
            "Answer:\n",
            "1475\n",
            "\n",
            "Do you want to ask another question based on this text (Y/N)? y\n",
            "\n",
            "Please enter your question: \n",
            "what is the library for?\n",
            "\n",
            "Answer:\n",
            "Research library for history , law , philosophy , science and theology\n",
            "\n",
            "Do you want to ask another question based on this text (Y/N)? y\n",
            "\n",
            "Please enter your question: \n",
            "for what subjects?\n",
            "\n",
            "Answer:\n",
            "History , law , philosophy , science and theology\n",
            "\n",
            "Do you want to ask another question based on this text (Y/N)? n\n",
            "\n",
            "Bye!\n"
          ]
        }
      ]
    },
    {
      "cell_type": "code",
      "source": [
        "text = \"\"\"The 34-year-old, who started his professional career with Barca and is their record scorer with 672 goals, joined PSG on a two-year deal in the close season after being told by the Catalan club they could not afford to keep him.\n",
        "\"I came back to Barcelona (from the Copa America in July) to prepare for the season, after taking advantage of the extra days of vacation that the coach (Ronald Koeman) had given me,\" Messi told France Football in an interview released on Saturday.\n",
        "\n",
        "\"I had in mind to sign my contract and to start training right away. I thought that everything was settled and that all that was missing was my signature (on the contract).\n",
        "\n",
        "\"But when I arrived in Barcelona, I was told that it was no longer possible, that I could not stay and that I had to find another club, because Barca could not afford to extend my contract. That changed my plans.\"\"\""
      ],
      "metadata": {
        "id": "JldKy-2_WlXC"
      },
      "execution_count": null,
      "outputs": []
    },
    {
      "cell_type": "code",
      "source": [
        "text = input(\"Please enter your text: \\n\")\n",
        "question = input(\"\\nPlease enter your question: \\n\")\n",
        "\n",
        "while True:\n",
        "  question_answer(question, text)\n",
        "\n",
        "  flag = True\n",
        "  flag_N = False\n",
        "\n",
        "  while flag:\n",
        "    response = input(\"\\nDo you want to ask another question based on this text (Y/N)? \")\n",
        "    if response[0] == \"Y\" or response[0] == \"y\":\n",
        "      question = input(\"\\nPlease enter your question: \\n\")\n",
        "      flag = False \n",
        "    elif response[0] == \"N\" or response[0] == \"n\":\n",
        "      print(\"\\nBye!\")\n",
        "      flag = False\n",
        "      flag_N = True\n",
        "  if flag_N == True:\n",
        "    break"
      ],
      "metadata": {
        "colab": {
          "base_uri": "https://localhost:8080/"
        },
        "id": "-joX4aNFYXFP",
        "outputId": "f0747877-8a17-43a4-ca14-f57a82d3671b"
      },
      "execution_count": null,
      "outputs": [
        {
          "output_type": "stream",
          "name": "stdout",
          "text": [
            "Please enter your text: \n",
            "The 34-year-old, who started his professional career with Barca and is their record scorer with 672 goals, joined PSG on a two-year deal in the close season after being told by the Catalan club they could not afford to keep him. \"I came back to Barcelona (from the Copa America in July) to prepare for the season, after taking advantage of the extra days of vacation that the coach (Ronald Koeman) had given me,\" Messi told France Football in an interview released on Saturday.  \"I had in mind to sign my contract and to start training right away. I thought that everything was settled and that all that was missing was my signature (on the contract).  \"But when I arrived in Barcelona, I was told that it was no longer possible, that I could not stay and that I had to find another club, because Barca could not afford to extend my contract. That changed my plans.\n",
            "\n",
            "Please enter your question: \n",
            "How old is Messi?\n",
            "\n",
            "Answer:\n",
            "34\n",
            "\n",
            "Do you want to ask another question based on this text (Y/N)? y\n",
            "\n",
            "Please enter your question: \n",
            "why Messi left Barca?\n",
            "\n",
            "Answer:\n",
            "Barca could not afford to extend my contract\n",
            "\n",
            "Do you want to ask another question based on this text (Y/N)? y\n",
            "\n",
            "Please enter your question: \n",
            "what is the deal of Messi with PSG?\n",
            "\n",
            "Answer:\n",
            "Two - year deal\n",
            "\n",
            "Do you want to ask another question based on this text (Y/N)? y\n",
            "\n",
            "Please enter your question: \n",
            "how many goals scored?\n",
            "\n",
            "Answer:\n",
            "672\n",
            "\n",
            "Do you want to ask another question based on this text (Y/N)? n\n",
            "\n",
            "Bye!\n"
          ]
        }
      ]
    },
    {
      "cell_type": "code",
      "source": [
        "torch.__version__"
      ],
      "metadata": {
        "colab": {
          "base_uri": "https://localhost:8080/",
          "height": 35
        },
        "id": "QQtNhJdHYggG",
        "outputId": "ffa02cd8-8b07-4595-b8ce-c512677ee540"
      },
      "execution_count": null,
      "outputs": [
        {
          "output_type": "execute_result",
          "data": {
            "application/vnd.google.colaboratory.intrinsic+json": {
              "type": "string"
            },
            "text/plain": [
              "'1.10.0+cu111'"
            ]
          },
          "metadata": {},
          "execution_count": 61
        }
      ]
    },
    {
      "cell_type": "markdown",
      "source": [
        "**Reference**: https://towardsdatascience.com/question-answering-with-a-fine-tuned-bert-bc4dafd45626"
      ],
      "metadata": {
        "id": "nCmCvnjFZXOH"
      }
    },
    {
      "cell_type": "code",
      "source": [
        ""
      ],
      "metadata": {
        "id": "L3L6bpzfZVuT"
      },
      "execution_count": null,
      "outputs": []
    }
  ]
}